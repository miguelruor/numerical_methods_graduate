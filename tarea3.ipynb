{
 "cells": [
  {
   "cell_type": "markdown",
   "metadata": {},
   "source": [
    "### Tarea 3, Métodos Numéricos, Miguel Angel Ruiz Ortiz"
   ]
  },
  {
   "cell_type": "code",
   "execution_count": 29,
   "metadata": {},
   "outputs": [],
   "source": [
    "import numpy as np\n",
    "import pandas as pd\n",
    "from typing import Tuple, Optional, List\n",
    "from numerical_methods import solveByGaussianElimination"
   ]
  },
  {
   "cell_type": "markdown",
   "metadata": {},
   "source": [
    "### Problema 1"
   ]
  },
  {
   "cell_type": "markdown",
   "metadata": {},
   "source": [
    "-> Aplica el método de la potencia y potencia inversa para el cálculo del autovalor y autovector dominante de la matriz propuesta $A$ y su inversa. Da la tabla de iterados, la tolerancia usada y el vector inicial.\n",
    "$$ A = \\begin{pmatrix} \n",
    "15 & -2 & 2 \\\\\n",
    "1 & 10 & -3 \\\\\n",
    "-2 & 1 & 0\n",
    "\\end{pmatrix}"
   ]
  },
  {
   "cell_type": "code",
   "execution_count": 30,
   "metadata": {},
   "outputs": [],
   "source": [
    "def MetodoPotenciaRayleigh(\n",
    "        A: np.array, \n",
    "        x0: np.array, \n",
    "        TOL: float = 10**(-5), \n",
    "        MAX_ITER: int = 1000,\n",
    "        iterations: Optional[List[float]] = None\n",
    "        ) -> Tuple[float, np.array]:\n",
    "    \"\"\"Método de la Potencia utilizando el coeficiente de Rayleigh (x^TAx, cuando ||x||=1) para calcular el eigenvalor de mayor magnitud y su eigenvector \n",
    "    asociado de una matriz A de nxn.\n",
    "\n",
    "    :param A: Matriz de nxn a la cual se le quiere calcular el eigenvalor de mayor magnitud y su eigenvector asociado.\n",
    "    :type A: np.array\n",
    "    :param x0: Vector inicial de tamaño n para el algoritmo iterativo\n",
    "    :type x0: np.array\n",
    "    :param TOL: Tolerancia para saber cuando convergió el algoritmo, i.e., cuando ||Ax-lambda*x|| < TOL donde x es el eigenvector y lambda el eigenvalor, defaults to 10**(-5)\n",
    "    :type TOL: float, optional\n",
    "    :param MAX_ITER: Número máximo de iteraciones del algoritmo, defaults to 1000\n",
    "    :type MAX_ITER: int, optional\n",
    "    :param iterations: Lista vacía opcional para guardar \"inplace\" las iteraciones de las lambdas, defaults to None\n",
    "    :type iterations: Optional[List[float]], optional\n",
    "    :raises Exception: Si no converge el algoritmo, i.e., se pasa del número de iteraciones máximo, se levanta una excepción\n",
    "    :return: Tupla de eigenvalor de mayor magnitud y su eigenvector asociado normalizado\n",
    "    :rtype: Tuple[float, np.array]\n",
    "    \"\"\" \n",
    "    A = A.astype(\"float64\")\n",
    "    xk = x0/np.linalg.norm(x0)\n",
    "    \n",
    "    lambda_k = np.inf\n",
    "    \n",
    "    for iter in range(MAX_ITER):\n",
    "        yk = A@xk\n",
    "        xk = yk / np.linalg.norm(yk)\n",
    "        \n",
    "        lambda_k = xk.T@A@xk # cociente de Rayleigh\n",
    "        \n",
    "        if iterations is not None:\n",
    "            iterations.append(lambda_k)\n",
    "        \n",
    "        if np.linalg.norm(A@xk - lambda_k*xk) < TOL:\n",
    "            print(f\"Converge en {iter+1} iteraciones\")\n",
    "            return lambda_k, xk\n",
    "        \n",
    "    raise Exception(\"No converge\")\n",
    "\n",
    "def MetodoPotenciaInversaDesplazamiento(\n",
    "    A: np.array, \n",
    "    x0: np.array, \n",
    "    p: float = 0, \n",
    "    TOL: float = 10**(-5), \n",
    "    MAX_ITER: int = 1000,\n",
    "    iterations: Optional[List[float]] = None\n",
    "    ) -> Tuple[float, np.array]:\n",
    "    \"\"\"Método de la Potencia Inversa con desplazamiento para calcular el eigenvalor de una matriz A más cercano a un valor dado p. p por default es 0, \n",
    "    por lo que si no se especifica el algoritmo regresa el eigenvalor de A más pequeño en magnitud (Método de la Potencia Inversa normal).\n",
    "\n",
    "    :param A:  Matriz de nxn a la cual se le quiere calcular el eigenvalor más cercano a p (si p no se especifica, el de menor magnitud) y su eigenvector asociado.\n",
    "    :type A: np.array\n",
    "    :param x0: Vector inicial de tamaño n para el algoritmo iterativo\n",
    "    :type x0: np.array\n",
    "    :param p: Target para encontrat el eigenvalor más cercano a p, si p no es dado se obtiene el eigenvalor más pequeño en magnitud, defaults to 0\n",
    "    :type p: float, optional\n",
    "    :param TOL: Tolerancia para saber cuando convergió el algoritmo, i.e., cuando ||Ax-lambda*x|| < TOL donde x es el eigenvector y lambda el eigenvalor, defaults to 10**(-5)\n",
    "    :type TOL: float, optional\n",
    "    :param MAX_ITER: Número máximo de iteraciones del algoritmo, defaults to 1000\n",
    "    :type MAX_ITER: int, optional\n",
    "    :param iterations: Lista vacía opcional para guardar \"inplace\" las iteraciones de las lambdas, defaults to None\n",
    "    :type iterations: Optional[List[float]], optional\n",
    "    :raises Exception: Si no converge el algoritmo, i.e., se pasa del número de iteraciones máximo, se levanta una excepción\n",
    "    :return: Tupla de eigenvalor más cercano a p (o eigenvalor más pequeño en magnitud si p no es dado) y su eigenvector asociado normalizado\n",
    "    :rtype: Tuple[float, np.array]\n",
    "    \"\"\"    \n",
    "    A = A.astype(\"float64\")\n",
    "    xk = x0/np.linalg.norm(x0)\n",
    "    n = x0.size\n",
    "    A_shift = A-p*np.identity(n)\n",
    "    \n",
    "    lambda_k = np.inf\n",
    "    \n",
    "    for iter in range(MAX_ITER):\n",
    "        yk = solveByGaussianElimination(A_shift, xk) # resolvemos A@yk = xk\n",
    "        xk = yk / np.linalg.norm(yk)\n",
    "        \n",
    "        lambda_k = xk.T@A_shift@xk # cociente de Rayleigh\n",
    "        \n",
    "        if iterations is not None:\n",
    "            iterations.append(lambda_k + p)\n",
    "        \n",
    "        if np.linalg.norm(A_shift@xk - lambda_k*xk) < TOL:\n",
    "            print(f\"Converge en {iter+1} iteraciones\")\n",
    "            return lambda_k+p, xk\n",
    "        \n",
    "    raise Exception(\"No converge\")"
   ]
  },
  {
   "cell_type": "code",
   "execution_count": 31,
   "metadata": {},
   "outputs": [],
   "source": [
    "A = np.array([\n",
    "    [15, -2, 2],\n",
    "    [1, 10, -3],\n",
    "    [-2, 1, 0]\n",
    "    ], dtype=\"float64\")"
   ]
  },
  {
   "cell_type": "markdown",
   "metadata": {},
   "source": [
    "Se utilizó la misma tolerancia, la cual fue $10^{-5}$, y el mismo vector inicial para los diferentes puntos de este ejercicio. El vector inicial es el siguiente:"
   ]
  },
  {
   "cell_type": "code",
   "execution_count": 32,
   "metadata": {},
   "outputs": [
    {
     "data": {
      "text/plain": [
       "array([0.5488135 , 0.71518937, 0.60276338])"
      ]
     },
     "execution_count": 32,
     "metadata": {},
     "output_type": "execute_result"
    }
   ],
   "source": [
    "np.random.seed(0)\n",
    "x0 = np.random.random(A.shape[0])\n",
    "x0 # vector inicial"
   ]
  },
  {
   "cell_type": "markdown",
   "metadata": {},
   "source": [
    "Cálculo del eigenvalor de mayor magnitud y su eigenvector asociado, y debajo su tabla de iterados:"
   ]
  },
  {
   "cell_type": "code",
   "execution_count": 33,
   "metadata": {},
   "outputs": [
    {
     "name": "stdout",
     "output_type": "stream",
     "text": [
      "Converge en 41 iteraciones\n"
     ]
    },
    {
     "data": {
      "text/plain": [
       "(14.102548953293946, array([ 0.94359156,  0.31169603, -0.11171641]))"
      ]
     },
     "execution_count": 33,
     "metadata": {},
     "output_type": "execute_result"
    }
   ],
   "source": [
    "lambdas_iter = [] # lista en donde se guardarán las iteraciones de lambda^(k)\n",
    "lambda1, v1 = MetodoPotenciaRayleigh(A, x0, iterations=lambdas_iter)\n",
    "lambda1, v1"
   ]
  },
  {
   "cell_type": "code",
   "execution_count": 34,
   "metadata": {},
   "outputs": [
    {
     "data": {
      "text/html": [
       "<div>\n",
       "<style scoped>\n",
       "    .dataframe tbody tr th:only-of-type {\n",
       "        vertical-align: middle;\n",
       "    }\n",
       "\n",
       "    .dataframe tbody tr th {\n",
       "        vertical-align: top;\n",
       "    }\n",
       "\n",
       "    .dataframe thead th {\n",
       "        text-align: right;\n",
       "    }\n",
       "</style>\n",
       "<table border=\"1\" class=\"dataframe\">\n",
       "  <thead>\n",
       "    <tr style=\"text-align: right;\">\n",
       "      <th></th>\n",
       "      <th>lambda^(k)</th>\n",
       "    </tr>\n",
       "  </thead>\n",
       "  <tbody>\n",
       "    <tr>\n",
       "      <th>Iteración 1</th>\n",
       "      <td>12.792862</td>\n",
       "    </tr>\n",
       "    <tr>\n",
       "      <th>Iteración 2</th>\n",
       "      <td>13.120075</td>\n",
       "    </tr>\n",
       "    <tr>\n",
       "      <th>Iteración 3</th>\n",
       "      <td>13.355859</td>\n",
       "    </tr>\n",
       "    <tr>\n",
       "      <th>Iteración 4</th>\n",
       "      <td>13.542714</td>\n",
       "    </tr>\n",
       "    <tr>\n",
       "      <th>Iteración 5</th>\n",
       "      <td>13.686626</td>\n",
       "    </tr>\n",
       "    <tr>\n",
       "      <th>Iteración 6</th>\n",
       "      <td>13.795206</td>\n",
       "    </tr>\n",
       "    <tr>\n",
       "      <th>Iteración 7</th>\n",
       "      <td>13.876098</td>\n",
       "    </tr>\n",
       "    <tr>\n",
       "      <th>Iteración 8</th>\n",
       "      <td>13.935930</td>\n",
       "    </tr>\n",
       "    <tr>\n",
       "      <th>Iteración 9</th>\n",
       "      <td>13.980017</td>\n",
       "    </tr>\n",
       "    <tr>\n",
       "      <th>Iteración 10</th>\n",
       "      <td>14.012445</td>\n",
       "    </tr>\n",
       "    <tr>\n",
       "      <th>Iteración 11</th>\n",
       "      <td>14.036284</td>\n",
       "    </tr>\n",
       "    <tr>\n",
       "      <th>Iteración 12</th>\n",
       "      <td>14.053806</td>\n",
       "    </tr>\n",
       "    <tr>\n",
       "      <th>Iteración 13</th>\n",
       "      <td>14.066687</td>\n",
       "    </tr>\n",
       "    <tr>\n",
       "      <th>Iteración 14</th>\n",
       "      <td>14.076160</td>\n",
       "    </tr>\n",
       "    <tr>\n",
       "      <th>Iteración 15</th>\n",
       "      <td>14.083128</td>\n",
       "    </tr>\n",
       "    <tr>\n",
       "      <th>Iteración 16</th>\n",
       "      <td>14.088255</td>\n",
       "    </tr>\n",
       "    <tr>\n",
       "      <th>Iteración 17</th>\n",
       "      <td>14.092027</td>\n",
       "    </tr>\n",
       "    <tr>\n",
       "      <th>Iteración 18</th>\n",
       "      <td>14.094804</td>\n",
       "    </tr>\n",
       "    <tr>\n",
       "      <th>Iteración 19</th>\n",
       "      <td>14.096848</td>\n",
       "    </tr>\n",
       "    <tr>\n",
       "      <th>Iteración 20</th>\n",
       "      <td>14.098353</td>\n",
       "    </tr>\n",
       "    <tr>\n",
       "      <th>Iteración 21</th>\n",
       "      <td>14.099461</td>\n",
       "    </tr>\n",
       "    <tr>\n",
       "      <th>Iteración 22</th>\n",
       "      <td>14.100277</td>\n",
       "    </tr>\n",
       "    <tr>\n",
       "      <th>Iteración 23</th>\n",
       "      <td>14.100878</td>\n",
       "    </tr>\n",
       "    <tr>\n",
       "      <th>Iteración 24</th>\n",
       "      <td>14.101320</td>\n",
       "    </tr>\n",
       "    <tr>\n",
       "      <th>Iteración 25</th>\n",
       "      <td>14.101646</td>\n",
       "    </tr>\n",
       "    <tr>\n",
       "      <th>Iteración 26</th>\n",
       "      <td>14.101886</td>\n",
       "    </tr>\n",
       "    <tr>\n",
       "      <th>Iteración 27</th>\n",
       "      <td>14.102062</td>\n",
       "    </tr>\n",
       "    <tr>\n",
       "      <th>Iteración 28</th>\n",
       "      <td>14.102192</td>\n",
       "    </tr>\n",
       "    <tr>\n",
       "      <th>Iteración 29</th>\n",
       "      <td>14.102288</td>\n",
       "    </tr>\n",
       "    <tr>\n",
       "      <th>Iteración 30</th>\n",
       "      <td>14.102359</td>\n",
       "    </tr>\n",
       "    <tr>\n",
       "      <th>Iteración 31</th>\n",
       "      <td>14.102411</td>\n",
       "    </tr>\n",
       "    <tr>\n",
       "      <th>Iteración 32</th>\n",
       "      <td>14.102449</td>\n",
       "    </tr>\n",
       "    <tr>\n",
       "      <th>Iteración 33</th>\n",
       "      <td>14.102477</td>\n",
       "    </tr>\n",
       "    <tr>\n",
       "      <th>Iteración 34</th>\n",
       "      <td>14.102498</td>\n",
       "    </tr>\n",
       "    <tr>\n",
       "      <th>Iteración 35</th>\n",
       "      <td>14.102513</td>\n",
       "    </tr>\n",
       "    <tr>\n",
       "      <th>Iteración 36</th>\n",
       "      <td>14.102524</td>\n",
       "    </tr>\n",
       "    <tr>\n",
       "      <th>Iteración 37</th>\n",
       "      <td>14.102533</td>\n",
       "    </tr>\n",
       "    <tr>\n",
       "      <th>Iteración 38</th>\n",
       "      <td>14.102539</td>\n",
       "    </tr>\n",
       "    <tr>\n",
       "      <th>Iteración 39</th>\n",
       "      <td>14.102543</td>\n",
       "    </tr>\n",
       "    <tr>\n",
       "      <th>Iteración 40</th>\n",
       "      <td>14.102547</td>\n",
       "    </tr>\n",
       "    <tr>\n",
       "      <th>Iteración 41</th>\n",
       "      <td>14.102549</td>\n",
       "    </tr>\n",
       "  </tbody>\n",
       "</table>\n",
       "</div>"
      ],
      "text/plain": [
       "              lambda^(k)\n",
       "Iteración 1    12.792862\n",
       "Iteración 2    13.120075\n",
       "Iteración 3    13.355859\n",
       "Iteración 4    13.542714\n",
       "Iteración 5    13.686626\n",
       "Iteración 6    13.795206\n",
       "Iteración 7    13.876098\n",
       "Iteración 8    13.935930\n",
       "Iteración 9    13.980017\n",
       "Iteración 10   14.012445\n",
       "Iteración 11   14.036284\n",
       "Iteración 12   14.053806\n",
       "Iteración 13   14.066687\n",
       "Iteración 14   14.076160\n",
       "Iteración 15   14.083128\n",
       "Iteración 16   14.088255\n",
       "Iteración 17   14.092027\n",
       "Iteración 18   14.094804\n",
       "Iteración 19   14.096848\n",
       "Iteración 20   14.098353\n",
       "Iteración 21   14.099461\n",
       "Iteración 22   14.100277\n",
       "Iteración 23   14.100878\n",
       "Iteración 24   14.101320\n",
       "Iteración 25   14.101646\n",
       "Iteración 26   14.101886\n",
       "Iteración 27   14.102062\n",
       "Iteración 28   14.102192\n",
       "Iteración 29   14.102288\n",
       "Iteración 30   14.102359\n",
       "Iteración 31   14.102411\n",
       "Iteración 32   14.102449\n",
       "Iteración 33   14.102477\n",
       "Iteración 34   14.102498\n",
       "Iteración 35   14.102513\n",
       "Iteración 36   14.102524\n",
       "Iteración 37   14.102533\n",
       "Iteración 38   14.102539\n",
       "Iteración 39   14.102543\n",
       "Iteración 40   14.102547\n",
       "Iteración 41   14.102549"
      ]
     },
     "execution_count": 34,
     "metadata": {},
     "output_type": "execute_result"
    }
   ],
   "source": [
    "pd.DataFrame({\"lambda^(k)\": lambdas_iter}, index=[f\"Iteración {iter}\" for iter in range(1, len(lambdas_iter)+1)]) # Tabla de iterados"
   ]
  },
  {
   "cell_type": "markdown",
   "metadata": {},
   "source": [
    "Cálculo del eigenvalor de menor magnitud y su eigenvector asociado, y debajo su tabla de iterados:"
   ]
  },
  {
   "cell_type": "code",
   "execution_count": 35,
   "metadata": {},
   "outputs": [
    {
     "name": "stdout",
     "output_type": "stream",
     "text": [
      "Converge en 5 iteraciones\n"
     ]
    },
    {
     "data": {
      "text/plain": [
       "(0.5120851859957193, array([-0.08811715,  0.30873883,  0.94705634]))"
      ]
     },
     "execution_count": 35,
     "metadata": {},
     "output_type": "execute_result"
    }
   ],
   "source": [
    "lambdas_iter_2 = [] # lista en donde se guardarán las iteraciones de lambda^(k)\n",
    "lambda3, v3 = MetodoPotenciaInversaDesplazamiento(A, x0, iterations=lambdas_iter_2)\n",
    "lambda3, v3"
   ]
  },
  {
   "cell_type": "code",
   "execution_count": 36,
   "metadata": {},
   "outputs": [
    {
     "data": {
      "text/html": [
       "<div>\n",
       "<style scoped>\n",
       "    .dataframe tbody tr th:only-of-type {\n",
       "        vertical-align: middle;\n",
       "    }\n",
       "\n",
       "    .dataframe tbody tr th {\n",
       "        vertical-align: top;\n",
       "    }\n",
       "\n",
       "    .dataframe thead th {\n",
       "        text-align: right;\n",
       "    }\n",
       "</style>\n",
       "<table border=\"1\" class=\"dataframe\">\n",
       "  <thead>\n",
       "    <tr style=\"text-align: right;\">\n",
       "      <th></th>\n",
       "      <th>lambda^(k)</th>\n",
       "    </tr>\n",
       "  </thead>\n",
       "  <tbody>\n",
       "    <tr>\n",
       "      <th>Iteración 1</th>\n",
       "      <td>0.576570</td>\n",
       "    </tr>\n",
       "    <tr>\n",
       "      <th>Iteración 2</th>\n",
       "      <td>0.514433</td>\n",
       "    </tr>\n",
       "    <tr>\n",
       "      <th>Iteración 3</th>\n",
       "      <td>0.512214</td>\n",
       "    </tr>\n",
       "    <tr>\n",
       "      <th>Iteración 4</th>\n",
       "      <td>0.512092</td>\n",
       "    </tr>\n",
       "    <tr>\n",
       "      <th>Iteración 5</th>\n",
       "      <td>0.512085</td>\n",
       "    </tr>\n",
       "  </tbody>\n",
       "</table>\n",
       "</div>"
      ],
      "text/plain": [
       "             lambda^(k)\n",
       "Iteración 1    0.576570\n",
       "Iteración 2    0.514433\n",
       "Iteración 3    0.512214\n",
       "Iteración 4    0.512092\n",
       "Iteración 5    0.512085"
      ]
     },
     "execution_count": 36,
     "metadata": {},
     "output_type": "execute_result"
    }
   ],
   "source": [
    "pd.DataFrame({\"lambda^(k)\": lambdas_iter_2}, index=[f\"Iteración {iter}\" for iter in range(1, len(lambdas_iter_2)+1)]) # Tabla de iterados"
   ]
  },
  {
   "cell_type": "markdown",
   "metadata": {},
   "source": [
    "Corroboración con librería de Numpy:"
   ]
  },
  {
   "cell_type": "code",
   "execution_count": 37,
   "metadata": {},
   "outputs": [
    {
     "data": {
      "text/plain": [
       "(array([ 0.51208483, 14.10255576, 10.38535941]),\n",
       " array([[-0.08811726, -0.94359219,  0.39292879],\n",
       "        [ 0.30873868, -0.31169403,  0.91947889],\n",
       "        [ 0.94705637,  0.11171665,  0.01286632]]))"
      ]
     },
     "execution_count": 37,
     "metadata": {},
     "output_type": "execute_result"
    }
   ],
   "source": [
    "np.linalg.eig(A)"
   ]
  },
  {
   "cell_type": "markdown",
   "metadata": {},
   "source": [
    "-> a) Con los resultados obtenidos da una aproximación para el número de condición de la matriz."
   ]
  },
  {
   "cell_type": "markdown",
   "metadata": {},
   "source": [
    "Una estimación para el número de condición de A es \n",
    "$$\\frac{|\\lambda_{max}|}{|\\lambda_{min}|},$$\n",
    "donde $\\lambda_{max}$ y $\\lambda_{min}$ son los eigenvalores de A de mayor y menor magnitud, respectivamente (explicación en PDF)."
   ]
  },
  {
   "cell_type": "code",
   "execution_count": 38,
   "metadata": {},
   "outputs": [
    {
     "data": {
      "text/plain": [
       "(27.539458939575404, 33.24309351411975)"
      ]
     },
     "execution_count": 38,
     "metadata": {},
     "output_type": "execute_result"
    }
   ],
   "source": [
    "condition_number_2 = np.linalg.norm(A, ord=2)*np.linalg.norm(np.linalg.inv(A), ord=2) # número de condición de A usando norma 2\n",
    "abs(lambda1)/abs(lambda3), condition_number_2 # si lambda1 es el eigenvalor de mayor magnitud y lambda3 es el de menor, entonces |lamda1|/|lambda3| estima por debajo al número de condición de A"
   ]
  },
  {
   "cell_type": "markdown",
   "metadata": {},
   "source": [
    "-> b) Implementa a alguna técnica para disminuir el número de iterados obtenidos. Muestra la nueva tabla de iterados."
   ]
  },
  {
   "cell_type": "markdown",
   "metadata": {},
   "source": [
    "Se obtiene el eigenvalor de mayor magnitud de A con su eigenvector asociado en la mitad de iteraciones (para el mismo vector inicial), y debajo se muestra la tabla de iterados. Explicación en PDF."
   ]
  },
  {
   "cell_type": "code",
   "execution_count": 39,
   "metadata": {},
   "outputs": [
    {
     "name": "stdout",
     "output_type": "stream",
     "text": [
      "Converge en 22 iteraciones\n"
     ]
    },
    {
     "data": {
      "text/plain": [
       "(14.10254808678905, array([ 0.94359148,  0.31169628, -0.11171638]))"
      ]
     },
     "execution_count": 39,
     "metadata": {},
     "output_type": "execute_result"
    }
   ],
   "source": [
    "lambdas_iter_3 = []\n",
    "lambda1, v1 = MetodoPotenciaInversaDesplazamiento(A, x0, p=19, iterations=lambdas_iter_3)\n",
    "lambda1, v1"
   ]
  },
  {
   "cell_type": "code",
   "execution_count": 40,
   "metadata": {},
   "outputs": [
    {
     "data": {
      "text/html": [
       "<div>\n",
       "<style scoped>\n",
       "    .dataframe tbody tr th:only-of-type {\n",
       "        vertical-align: middle;\n",
       "    }\n",
       "\n",
       "    .dataframe tbody tr th {\n",
       "        vertical-align: top;\n",
       "    }\n",
       "\n",
       "    .dataframe thead th {\n",
       "        text-align: right;\n",
       "    }\n",
       "</style>\n",
       "<table border=\"1\" class=\"dataframe\">\n",
       "  <thead>\n",
       "    <tr style=\"text-align: right;\">\n",
       "      <th></th>\n",
       "      <th>lambda^(k)</th>\n",
       "    </tr>\n",
       "  </thead>\n",
       "  <tbody>\n",
       "    <tr>\n",
       "      <th>Iteración 1</th>\n",
       "      <td>12.035112</td>\n",
       "    </tr>\n",
       "    <tr>\n",
       "      <th>Iteración 2</th>\n",
       "      <td>13.404617</td>\n",
       "    </tr>\n",
       "    <tr>\n",
       "      <th>Iteración 3</th>\n",
       "      <td>13.753713</td>\n",
       "    </tr>\n",
       "    <tr>\n",
       "      <th>Iteración 4</th>\n",
       "      <td>13.906008</td>\n",
       "    </tr>\n",
       "    <tr>\n",
       "      <th>Iteración 5</th>\n",
       "      <td>13.990099</td>\n",
       "    </tr>\n",
       "    <tr>\n",
       "      <th>Iteración 6</th>\n",
       "      <td>14.038323</td>\n",
       "    </tr>\n",
       "    <tr>\n",
       "      <th>Iteración 7</th>\n",
       "      <td>14.065956</td>\n",
       "    </tr>\n",
       "    <tr>\n",
       "      <th>Iteración 8</th>\n",
       "      <td>14.081729</td>\n",
       "    </tr>\n",
       "    <tr>\n",
       "      <th>Iteración 9</th>\n",
       "      <td>14.090712</td>\n",
       "    </tr>\n",
       "    <tr>\n",
       "      <th>Iteración 10</th>\n",
       "      <td>14.095822</td>\n",
       "    </tr>\n",
       "    <tr>\n",
       "      <th>Iteración 11</th>\n",
       "      <td>14.098728</td>\n",
       "    </tr>\n",
       "    <tr>\n",
       "      <th>Iteración 12</th>\n",
       "      <td>14.100380</td>\n",
       "    </tr>\n",
       "    <tr>\n",
       "      <th>Iteración 13</th>\n",
       "      <td>14.101319</td>\n",
       "    </tr>\n",
       "    <tr>\n",
       "      <th>Iteración 14</th>\n",
       "      <td>14.101852</td>\n",
       "    </tr>\n",
       "    <tr>\n",
       "      <th>Iteración 15</th>\n",
       "      <td>14.102156</td>\n",
       "    </tr>\n",
       "    <tr>\n",
       "      <th>Iteración 16</th>\n",
       "      <td>14.102328</td>\n",
       "    </tr>\n",
       "    <tr>\n",
       "      <th>Iteración 17</th>\n",
       "      <td>14.102427</td>\n",
       "    </tr>\n",
       "    <tr>\n",
       "      <th>Iteración 18</th>\n",
       "      <td>14.102482</td>\n",
       "    </tr>\n",
       "    <tr>\n",
       "      <th>Iteración 19</th>\n",
       "      <td>14.102514</td>\n",
       "    </tr>\n",
       "    <tr>\n",
       "      <th>Iteración 20</th>\n",
       "      <td>14.102532</td>\n",
       "    </tr>\n",
       "    <tr>\n",
       "      <th>Iteración 21</th>\n",
       "      <td>14.102542</td>\n",
       "    </tr>\n",
       "    <tr>\n",
       "      <th>Iteración 22</th>\n",
       "      <td>14.102548</td>\n",
       "    </tr>\n",
       "  </tbody>\n",
       "</table>\n",
       "</div>"
      ],
      "text/plain": [
       "              lambda^(k)\n",
       "Iteración 1    12.035112\n",
       "Iteración 2    13.404617\n",
       "Iteración 3    13.753713\n",
       "Iteración 4    13.906008\n",
       "Iteración 5    13.990099\n",
       "Iteración 6    14.038323\n",
       "Iteración 7    14.065956\n",
       "Iteración 8    14.081729\n",
       "Iteración 9    14.090712\n",
       "Iteración 10   14.095822\n",
       "Iteración 11   14.098728\n",
       "Iteración 12   14.100380\n",
       "Iteración 13   14.101319\n",
       "Iteración 14   14.101852\n",
       "Iteración 15   14.102156\n",
       "Iteración 16   14.102328\n",
       "Iteración 17   14.102427\n",
       "Iteración 18   14.102482\n",
       "Iteración 19   14.102514\n",
       "Iteración 20   14.102532\n",
       "Iteración 21   14.102542\n",
       "Iteración 22   14.102548"
      ]
     },
     "execution_count": 40,
     "metadata": {},
     "output_type": "execute_result"
    }
   ],
   "source": [
    "pd.DataFrame({\"lambda^(k)\": lambdas_iter_3}, index=[f\"Iteración {iter}\" for iter in range(1, len(lambdas_iter_3)+1)]) "
   ]
  },
  {
   "cell_type": "markdown",
   "metadata": {},
   "source": [
    "### Problema 4"
   ]
  },
  {
   "cell_type": "markdown",
   "metadata": {},
   "source": [
    "-> Usa una técnica numérica para determinar todos los valores propios y los vectores propios asociados a la matriz:\n",
    "$$\n",
    "\\begin{pmatrix}\n",
    "4 & 2 & 0 & 0 & 0 \\\\\n",
    "2 & 4 & 2 & 0 & 0 \\\\\n",
    "0 & 2 & 4 & 2 & 0 \\\\\n",
    "0 & 0 & 2 & 4 & 2 \\\\\n",
    "0 & 0 & 0 & 2 & 4\n",
    "\\end{pmatrix}\n",
    "$$\n",
    "¿Qué técnica usaste? Da muestra de tus resultados computacionales."
   ]
  },
  {
   "cell_type": "markdown",
   "metadata": {},
   "source": [
    "Explicación en PDF."
   ]
  },
  {
   "cell_type": "code",
   "execution_count": 41,
   "metadata": {},
   "outputs": [],
   "source": [
    "def HouseholderMatrix(v: np.array) -> np.array:\n",
    "    return np.identity(v.size) - (2/(np.linalg.norm(v)**2))*np.outer(v,v.T)\n",
    "\n",
    "def canonical_vector(size: int, index: int) -> np.array:\n",
    "    e = np.zeros(size)\n",
    "    e[index] = 1.0\n",
    "    return e\n",
    "\n",
    "def MetodoPotenciaConHouseholder(A: np.array, TOL: float = 10**(-5), MAX_ITER: int = 1000) -> np.array:\n",
    "    n = A.shape[0]\n",
    "    \n",
    "    valores_propios = np.zeros(n)\n",
    "    B = A.copy()\n",
    "    \n",
    "    for i in range(n):\n",
    "        if i == n-1:\n",
    "            # ultima iteración, B sólo tiene el último valor propio\n",
    "            valores_propios[i] = B[0,0]\n",
    "            continue\n",
    "        \n",
    "        valores_propios[i], vk = MetodoPotenciaRayleigh(B, np.random.random(B.shape[0]), TOL=TOL, MAX_ITER=MAX_ITER) \n",
    "        e1 = canonical_vector(vk.size, 0)\n",
    "        v = vk - e1\n",
    "        H = HouseholderMatrix(v)\n",
    "        B1 = H@B@H\n",
    "        B = B1[1:, 1:]\n",
    "    \n",
    "    return valores_propios"
   ]
  },
  {
   "cell_type": "code",
   "execution_count": 42,
   "metadata": {},
   "outputs": [],
   "source": [
    "A = np.array([\n",
    "    [4, 2, 0, 0, 0],\n",
    "    [2, 4, 2, 0, 0],\n",
    "    [0, 2, 4, 2, 0],\n",
    "    [0, 0, 2, 4, 2],\n",
    "    [0, 0, 0, 2, 4]\n",
    "], dtype=\"float64\")"
   ]
  },
  {
   "cell_type": "code",
   "execution_count": 43,
   "metadata": {},
   "outputs": [
    {
     "name": "stdout",
     "output_type": "stream",
     "text": [
      "Converge en 46 iteraciones\n",
      "Converge en 32 iteraciones\n",
      "Converge en 19 iteraciones\n",
      "Converge en 11 iteraciones\n"
     ]
    },
    {
     "data": {
      "text/plain": [
       "array([7.46410162, 6.        , 4.        , 2.        , 0.53589838])"
      ]
     },
     "execution_count": 43,
     "metadata": {},
     "output_type": "execute_result"
    }
   ],
   "source": [
    "lambdas = MetodoPotenciaConHouseholder(A)\n",
    "lambdas # eigenvalores de A"
   ]
  },
  {
   "cell_type": "code",
   "execution_count": 44,
   "metadata": {},
   "outputs": [
    {
     "name": "stdout",
     "output_type": "stream",
     "text": [
      "Converge en 2 iteraciones\n",
      "Converge en 2 iteraciones\n",
      "Converge en 2 iteraciones\n",
      "Converge en 2 iteraciones\n",
      "Converge en 2 iteraciones\n"
     ]
    }
   ],
   "source": [
    "eigenvectores = []\n",
    "epsilon = 10**(-3)\n",
    "for k in range(lambdas.size):\n",
    "    lambdak, vk = MetodoPotenciaInversaDesplazamiento(A, np.random.random(A.shape[0]), p=lambdas[k]+epsilon)\n",
    "    eigenvectores.append(vk)"
   ]
  },
  {
   "cell_type": "markdown",
   "metadata": {},
   "source": [
    "Los eigenvalores y eigenvectores son los siguientes:"
   ]
  },
  {
   "cell_type": "code",
   "execution_count": 45,
   "metadata": {},
   "outputs": [
    {
     "name": "stdout",
     "output_type": "stream",
     "text": [
      "Eigenvalores: [7.46410162 6.         4.         2.         0.53589838]\n",
      "Eigenvectores: [array([0.28867514, 0.49999999, 0.57735026, 0.50000001, 0.28867516]), array([ 5.00000729e-01,  5.00000993e-01,  9.04749352e-07, -4.99998983e-01,\n",
      "       -4.99999295e-01]), array([ 5.77350345e-01,  8.63012346e-08, -5.77350175e-01,  8.22457549e-10,\n",
      "        5.77350288e-01]), array([-4.99998944e-01,  5.00001421e-01, -2.68946020e-06, -4.99998459e-01,\n",
      "        5.00001176e-01]), array([ 0.28867465, -0.49999854,  0.5773504 , -0.50000085,  0.28867642])]\n"
     ]
    }
   ],
   "source": [
    "print(\"Eigenvalores:\", lambdas)\n",
    "print(\"Eigenvectores:\", eigenvectores)"
   ]
  },
  {
   "cell_type": "markdown",
   "metadata": {},
   "source": [
    "Corroboración con librería de Numpy"
   ]
  },
  {
   "cell_type": "code",
   "execution_count": 46,
   "metadata": {},
   "outputs": [
    {
     "data": {
      "text/plain": [
       "(array([7.46410162, 6.        , 4.        , 0.53589838, 2.        ]),\n",
       " array([[ 2.88675135e-01, -5.00000000e-01,  5.77350269e-01,\n",
       "         -2.88675135e-01, -5.00000000e-01],\n",
       "        [ 5.00000000e-01, -5.00000000e-01,  4.16874298e-16,\n",
       "          5.00000000e-01,  5.00000000e-01],\n",
       "        [ 5.77350269e-01, -9.38463736e-16, -5.77350269e-01,\n",
       "         -5.77350269e-01,  8.73792257e-17],\n",
       "        [ 5.00000000e-01,  5.00000000e-01, -1.12283347e-16,\n",
       "          5.00000000e-01, -5.00000000e-01],\n",
       "        [ 2.88675135e-01,  5.00000000e-01,  5.77350269e-01,\n",
       "         -2.88675135e-01,  5.00000000e-01]]))"
      ]
     },
     "execution_count": 46,
     "metadata": {},
     "output_type": "execute_result"
    }
   ],
   "source": [
    "np.linalg.eig(A)"
   ]
  }
 ],
 "metadata": {
  "kernelspec": {
   "display_name": "Python 3",
   "language": "python",
   "name": "python3"
  },
  "language_info": {
   "codemirror_mode": {
    "name": "ipython",
    "version": 3
   },
   "file_extension": ".py",
   "mimetype": "text/x-python",
   "name": "python",
   "nbconvert_exporter": "python",
   "pygments_lexer": "ipython3",
   "version": "3.9.6"
  },
  "orig_nbformat": 4
 },
 "nbformat": 4,
 "nbformat_minor": 2
}
