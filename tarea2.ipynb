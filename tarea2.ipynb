{
 "cells": [
  {
   "cell_type": "markdown",
   "metadata": {},
   "source": [
    "### Tarea 2, Métodos Numéricos, Miguel Angel Ruiz Ortiz"
   ]
  },
  {
   "cell_type": "markdown",
   "metadata": {},
   "source": [
    "### Problema 2.a)"
   ]
  },
  {
   "cell_type": "markdown",
   "metadata": {},
   "source": [
    "-> Implementa el método de eliminación Gaussiana junto con un método de sustitución para resolver sistemas lineales. Estima para un sistema de n-ecuaciones cuántas operaciones requiere."
   ]
  },
  {
   "cell_type": "markdown",
   "metadata": {},
   "source": [
    "La estimación de operaciones se encuentra en el PDF."
   ]
  },
  {
   "cell_type": "code",
   "execution_count": 21,
   "metadata": {},
   "outputs": [],
   "source": [
    "import numpy as np"
   ]
  },
  {
   "cell_type": "code",
   "execution_count": 22,
   "metadata": {},
   "outputs": [],
   "source": [
    "def solveUpperTriangular(A: np.array, b: np.array, TOL: float = 10**(-5)) -> np.array:\n",
    "    \"\"\"Resuelve Ax = b cuando A es una matriz triangular superior de nxn, y b es un vector de tamaño n, mediante sustitución regresiva.\n",
    "    Regresa la solución x si existe, y en otro caso levanta una excepción.\n",
    "\n",
    "    :param A: Matriz triangular superior de nxn\n",
    "    :type A: np.array\n",
    "    :param b: Vector de tamaño n\n",
    "    :type b: np.array\n",
    "    :param TOL: Toleracia, i.e., si |x|<TOL, entonces x se considera como 0\n",
    "    :type TOL: float\n",
    "    :return: Vector solución x de tamaño n (si existe). \n",
    "    :rtype: np.array\n",
    "    \"\"\"\n",
    "    \n",
    "    n: int = b.size\n",
    "    x: np.array = np.zeros(n)\n",
    "    \n",
    "    for i in reversed(range(n)):\n",
    "        if abs(A[i, i]) < TOL: # checar si A[i,i] es prácticamente 0\n",
    "            raise Exception(\"No existe una solución única al sistema\")\n",
    "        \n",
    "        s = A[i,i+1:]@x[i+1:] # \\sum_{j=i+1}^{n-1} a_{ij}x_j corresponde al producto punto entre A[i,i+1:] y x[i+1:]\n",
    "        # notar que cuando i == n-1, el producto punto (de arrays vacíos) da 0\n",
    "\n",
    "        x[i] = (b[i] - s)/A[i,i]\n",
    "        \n",
    "    return x"
   ]
  },
  {
   "cell_type": "code",
   "execution_count": 23,
   "metadata": {},
   "outputs": [],
   "source": [
    "def solveByGaussianElimination(A: np.array, b: np.array, TOL: float = 10**(-5)) -> np.array:\n",
    "    \"\"\"Resuelve Ax=b mediante eliminación Gaussiana con pivoteo parcial y sustitución regresiva. Regresa la solución x si existe, y en otro caso levanta una excepción.\n",
    "\n",
    "    :param A: Matriz de nxn\n",
    "    :type A: np.array\n",
    "    :param b: Vector independiente de tamaño n\n",
    "    :type b: np.array\n",
    "    :param TOL: Toleracia, i.e., si |x|<TOL, entonces x se considera como 0\n",
    "    :type TOL: float\n",
    "    :return: Vector solución x de tamaño n (si existe)\n",
    "    :rtype: np.array\n",
    "    \"\"\"\n",
    "    # copiamos A, b y casteamos a flotante, para no modificar la matriz y vector originales mientras hacemos eliminación Gaussiana, \n",
    "    # y también para no hacer división entera si A tiene puros enteros (dtype 'int64')\n",
    "    A_c = A.astype('float64')\n",
    "    b_c = b.astype('float64') \n",
    "    \n",
    "    n: int = b.size\n",
    "    \n",
    "    for i in range(n):\n",
    "        i_max = np.abs(A_c[i:, i]).argmax() + i # encontramos la fila del elemento de mayor magnitud en la columna i después de o en la fila i\n",
    "        if i_max != i:\n",
    "            A_c[[i, i_max]] = A_c[[i_max, i]] # swap de fila i y fila i_max\n",
    "            b_c[i], b_c[i_max] = b_c[i_max], b_c[i]\n",
    "        \n",
    "        if abs(A_c[i, i]) < TOL: # checar si A_c[i,i] es prácticamente 0\n",
    "            raise Exception(\"No existe una solución única al sistema\") # no existe porque si el elemento de mayor magnitud es cercano a 0, los demás también\n",
    "        \n",
    "        for k in range(i+1, n):\n",
    "            # hacer 0's debajo del pivote A_c[i,i]\n",
    "            m_ki = A_c[k, i]/A_c[i,i]\n",
    "            A_c[k,i:] = A_c[k,i:] - m_ki*A_c[i,i:]\n",
    "            b_c[k] = b_c[k] - m_ki*b_c[i]\n",
    "\n",
    "    # aqui ya tendriamos un sistema Ux = c, donde U es triangular superior\n",
    "    return solveUpperTriangular(A_c, b_c, TOL)\n",
    "        "
   ]
  },
  {
   "cell_type": "markdown",
   "metadata": {},
   "source": [
    "Testing con sistema de ecuaciones del Problema 1"
   ]
  },
  {
   "cell_type": "code",
   "execution_count": 24,
   "metadata": {},
   "outputs": [
    {
     "name": "stdout",
     "output_type": "stream",
     "text": [
      "A:\n",
      " [[1 1 2 0]\n",
      " [0 1 1 2]\n",
      " [1 1 3 3]\n",
      " [0 2 5 2]]\n",
      "U:\n",
      " [[  1   1   2   0]\n",
      " [  0   1   1   2]\n",
      " [  0   0   1   3]\n",
      " [  0   0   0 -11]]\n"
     ]
    }
   ],
   "source": [
    "\n",
    "p, q = 2, 2\n",
    "A = np.array([[1, 1, 2, 0], [0, 1, 1, 2], [1, 1, 3, 3], [0, 2, 5, p]])\n",
    "b = np.array([q, 0, 0, 3])\n",
    "U = np.array([[1, 1, 2, 0], [0, 1, 1, 2], [0, 0, 1, 3], [0, 0, 0, p-13]]) # U es la matriz diagonal que surge de eliminación Gaussiana sin utilizar pivoteo parcial\n",
    "c = np.array([q, 0, -q, 3+3*q]) # c es el vector independiente que surge de eliminación Gaussiana sin utilizar pivoteo parcial\n",
    "print(\"A:\\n\", A)\n",
    "print(\"U:\\n\", U)"
   ]
  },
  {
   "cell_type": "code",
   "execution_count": 25,
   "metadata": {},
   "outputs": [
    {
     "data": {
      "text/plain": [
       "array([-0.09090909,  1.18181818,  0.45454545, -0.81818182])"
      ]
     },
     "execution_count": 25,
     "metadata": {},
     "output_type": "execute_result"
    }
   ],
   "source": [
    "# Expresion analítica de la solución:\n",
    "np.array([\n",
    "    2*q+15*(1+q)/(p-13), \n",
    "    q + 3*(1+q)/(p-13),\n",
    "    -q-9*(1+q)/(p-13),\n",
    "    3*(1+q)/(p-13)\n",
    "])"
   ]
  },
  {
   "cell_type": "code",
   "execution_count": 26,
   "metadata": {},
   "outputs": [
    {
     "data": {
      "text/plain": [
       "array([-0.09090909,  1.18181818,  0.45454545, -0.81818182])"
      ]
     },
     "execution_count": 26,
     "metadata": {},
     "output_type": "execute_result"
    }
   ],
   "source": [
    "# Resolviendo Ux = c\n",
    "solveUpperTriangular(U, c)"
   ]
  },
  {
   "cell_type": "code",
   "execution_count": 27,
   "metadata": {},
   "outputs": [
    {
     "data": {
      "text/plain": [
       "array([-0.09090909,  1.18181818,  0.45454545, -0.81818182])"
      ]
     },
     "execution_count": 27,
     "metadata": {},
     "output_type": "execute_result"
    }
   ],
   "source": [
    "# Resolviendo con eliminación Gaussiana y pivoteo parcial:\n",
    "solveByGaussianElimination(A, b)"
   ]
  },
  {
   "cell_type": "markdown",
   "metadata": {},
   "source": [
    "### Problema 3"
   ]
  },
  {
   "cell_type": "markdown",
   "metadata": {},
   "source": [
    "-> 3.a) Encontrar $A^{-1}$ y resolver $Ax = b$"
   ]
  },
  {
   "cell_type": "code",
   "execution_count": 28,
   "metadata": {},
   "outputs": [],
   "source": [
    "A = np.array([[4, -1, 0, 0], [-1, 4, -1, 0], [0, -1, 4, -1], [0, 0, -1, 3]], dtype=\"object\")\n",
    "b = np.array([15, 10, 10, 10], dtype=\"object\")"
   ]
  },
  {
   "cell_type": "code",
   "execution_count": 29,
   "metadata": {},
   "outputs": [],
   "source": [
    "from fractions import Fraction # modulo de Python para trabajar con racionales"
   ]
  },
  {
   "cell_type": "code",
   "execution_count": 30,
   "metadata": {},
   "outputs": [
    {
     "data": {
      "text/plain": [
       "array([[Fraction(41, 153), Fraction(11, 153), Fraction(1, 51),\n",
       "        Fraction(1, 153)],\n",
       "       [Fraction(11, 153), Fraction(44, 153), Fraction(4, 51),\n",
       "        Fraction(4, 153)],\n",
       "       [Fraction(1, 51), Fraction(4, 51), Fraction(5, 17),\n",
       "        Fraction(5, 51)],\n",
       "       [Fraction(1, 153), Fraction(4, 153), Fraction(5, 51),\n",
       "        Fraction(56, 153)]], dtype=object)"
      ]
     },
     "execution_count": 30,
     "metadata": {},
     "output_type": "execute_result"
    }
   ],
   "source": [
    "A_inv = np.array([\n",
    "    [Fraction(41, 153), Fraction(11, 153), Fraction(1, 51), Fraction(1, 153)], \n",
    "    [Fraction(11, 153), Fraction(44, 153), Fraction(4, 51), Fraction(4, 153)], \n",
    "    [Fraction(1, 51), Fraction(4, 51), Fraction(5, 17), Fraction(5, 51)], \n",
    "    [Fraction(1, 153), Fraction(4, 153), Fraction(15, 153), Fraction(56, 153)]\n",
    "    ], dtype=\"object\") # inversa de A\n",
    "A_inv"
   ]
  },
  {
   "cell_type": "code",
   "execution_count": 31,
   "metadata": {},
   "outputs": [
    {
     "name": "stdout",
     "output_type": "stream",
     "text": [
      "[[Fraction(1, 1) Fraction(0, 1) Fraction(0, 1) Fraction(0, 1)]\n",
      " [Fraction(0, 1) Fraction(1, 1) Fraction(0, 1) Fraction(0, 1)]\n",
      " [Fraction(0, 1) Fraction(0, 1) Fraction(1, 1) Fraction(0, 1)]\n",
      " [Fraction(0, 1) Fraction(0, 1) Fraction(0, 1) Fraction(1, 1)]]\n",
      "[[Fraction(1, 1) Fraction(0, 1) Fraction(0, 1) Fraction(0, 1)]\n",
      " [Fraction(0, 1) Fraction(1, 1) Fraction(0, 1) Fraction(0, 1)]\n",
      " [Fraction(0, 1) Fraction(0, 1) Fraction(1, 1) Fraction(0, 1)]\n",
      " [Fraction(0, 1) Fraction(0, 1) Fraction(0, 1) Fraction(1, 1)]]\n"
     ]
    }
   ],
   "source": [
    "# verificar que A_inv es la inversa de A\n",
    "print(A@A_inv)\n",
    "print(A_inv@A)"
   ]
  },
  {
   "cell_type": "code",
   "execution_count": 32,
   "metadata": {},
   "outputs": [
    {
     "data": {
      "text/plain": [
       "array([Fraction(5, 1), Fraction(5, 1), Fraction(5, 1), Fraction(5, 1)],\n",
       "      dtype=object)"
      ]
     },
     "execution_count": 32,
     "metadata": {},
     "output_type": "execute_result"
    }
   ],
   "source": [
    "# resolver Ax = b utilizando la inversa de A\n",
    "x = A_inv@b\n",
    "x"
   ]
  },
  {
   "cell_type": "code",
   "execution_count": 33,
   "metadata": {},
   "outputs": [
    {
     "data": {
      "text/plain": [
       "array([Fraction(15, 1), Fraction(10, 1), Fraction(10, 1), Fraction(10, 1)],\n",
       "      dtype=object)"
      ]
     },
     "execution_count": 33,
     "metadata": {},
     "output_type": "execute_result"
    }
   ],
   "source": [
    "A@x"
   ]
  },
  {
   "cell_type": "markdown",
   "metadata": {},
   "source": [
    "-> 3.b) Número de condición de la matriz A, considerando la norma infinito"
   ]
  },
  {
   "cell_type": "code",
   "execution_count": 34,
   "metadata": {},
   "outputs": [
    {
     "data": {
      "text/plain": [
       "6"
      ]
     },
     "execution_count": 34,
     "metadata": {},
     "output_type": "execute_result"
    }
   ],
   "source": [
    "norm_inf_A = np.linalg.norm(A, np.inf)\n",
    "norm_inf_A"
   ]
  },
  {
   "cell_type": "code",
   "execution_count": 35,
   "metadata": {},
   "outputs": [
    {
     "data": {
      "text/plain": [
       "Fraction(76, 153)"
      ]
     },
     "execution_count": 35,
     "metadata": {},
     "output_type": "execute_result"
    }
   ],
   "source": [
    "norm_inf_A_inv = np.linalg.norm(A_inv, np.inf)\n",
    "norm_inf_A_inv"
   ]
  },
  {
   "cell_type": "code",
   "execution_count": 36,
   "metadata": {},
   "outputs": [
    {
     "data": {
      "text/plain": [
       "Fraction(152, 51)"
      ]
     },
     "execution_count": 36,
     "metadata": {},
     "output_type": "execute_result"
    }
   ],
   "source": [
    "norm_inf_A*norm_inf_A_inv # número de condición de A"
   ]
  },
  {
   "cell_type": "code",
   "execution_count": 37,
   "metadata": {},
   "outputs": [
    {
     "data": {
      "text/plain": [
       "2.980392156862745"
      ]
     },
     "execution_count": 37,
     "metadata": {},
     "output_type": "execute_result"
    }
   ],
   "source": [
    "float(norm_inf_A*norm_inf_A_inv) # número de condición de A"
   ]
  },
  {
   "cell_type": "markdown",
   "metadata": {},
   "source": [
    "-> 3.c) Factorización de Cholesky"
   ]
  },
  {
   "cell_type": "code",
   "execution_count": 38,
   "metadata": {},
   "outputs": [
    {
     "data": {
      "text/plain": [
       "array([[ 2.        ,  0.        ,  0.        ,  0.        ],\n",
       "       [-0.5       ,  1.93649167,  0.        ,  0.        ],\n",
       "       [ 0.        , -0.51639778,  1.93218357,  0.        ],\n",
       "       [ 0.        ,  0.        , -0.51754917,  1.6529195 ]])"
      ]
     },
     "execution_count": 38,
     "metadata": {},
     "output_type": "execute_result"
    }
   ],
   "source": [
    "L = np.array([\n",
    "    [1, 0, 0, 0],\n",
    "    [-1/4, 1, 0, 0],\n",
    "    [0, -4/15, 1, 0],\n",
    "    [0, 0, -15/56, 1]\n",
    "    ], dtype='float64')\n",
    "D_sq = np.diag([2, (15/4)**0.5, (56/15)**0.5, (153/56)**0.5])\n",
    "L_chol = L@D_sq\n",
    "L_chol #matriz L de factorización de Cholesky"
   ]
  },
  {
   "cell_type": "code",
   "execution_count": 39,
   "metadata": {},
   "outputs": [
    {
     "data": {
      "text/plain": [
       "array([[ 4., -1.,  0.,  0.],\n",
       "       [-1.,  4., -1.,  0.],\n",
       "       [ 0., -1.,  4., -1.],\n",
       "       [ 0.,  0., -1.,  3.]])"
      ]
     },
     "execution_count": 39,
     "metadata": {},
     "output_type": "execute_result"
    }
   ],
   "source": [
    "L_chol@L_chol.T # comprobación de que A = L*L^T"
   ]
  },
  {
   "cell_type": "code",
   "execution_count": 40,
   "metadata": {},
   "outputs": [
    {
     "data": {
      "text/plain": [
       "array([[ 2.        ,  0.        ,  0.        ,  0.        ],\n",
       "       [-0.5       ,  1.93649167,  0.        ,  0.        ],\n",
       "       [ 0.        , -0.51639778,  1.93218357,  0.        ],\n",
       "       [ 0.        ,  0.        , -0.51754917,  1.6529195 ]])"
      ]
     },
     "execution_count": 40,
     "metadata": {},
     "output_type": "execute_result"
    }
   ],
   "source": [
    "np.array([\n",
    "    [2, 0, 0, 0],\n",
    "    [-1/2, 15**0.5/2, 0, 0],\n",
    "    [0, -2/(15**0.5), (2*14**0.5)/(15**0.5), 0],\n",
    "    [0, 0, -15**0.5/(2*14**0.5), 3*17**(0.5)/(2*14**0.5)]\n",
    "    ], dtype='float64') # matriz L de factorización de Cholesky (explícita)"
   ]
  }
 ],
 "metadata": {
  "kernelspec": {
   "display_name": "Python 3",
   "language": "python",
   "name": "python3"
  },
  "language_info": {
   "codemirror_mode": {
    "name": "ipython",
    "version": 3
   },
   "file_extension": ".py",
   "mimetype": "text/x-python",
   "name": "python",
   "nbconvert_exporter": "python",
   "pygments_lexer": "ipython3",
   "version": "3.11.4"
  },
  "orig_nbformat": 4
 },
 "nbformat": 4,
 "nbformat_minor": 2
}
