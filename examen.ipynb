{
 "cells": [
  {
   "cell_type": "code",
   "execution_count": 1,
   "metadata": {},
   "outputs": [],
   "source": [
    "import numerical_methods as NumMeth\n",
    "import numpy as np\n",
    "import pandas as pd\n",
    "import matplotlib.pyplot as plt"
   ]
  },
  {
   "cell_type": "markdown",
   "metadata": {},
   "source": [
    "### Problema 1"
   ]
  },
  {
   "cell_type": "code",
   "execution_count": 2,
   "metadata": {},
   "outputs": [
    {
     "data": {
      "text/plain": [
       "array([0.06822349, 0.24644242, 0.07692891])"
      ]
     },
     "execution_count": 2,
     "metadata": {},
     "output_type": "execute_result"
    }
   ],
   "source": [
    "def F(x: np.array) -> np.array:\n",
    "    return np.array([\n",
    "        10*x[0] + np.sin(x[1]+x[2]) - 1, \n",
    "        8*x[1] - np.cos(x[2]-x[1])**2 - 1, \n",
    "        12*x[2] + np.sin(x[2]) - 1\n",
    "        ])\n",
    "    \n",
    "def JF(x: np.array) -> np.array:\n",
    "    return np.array([\n",
    "        [10+np.cos(x[0] + x[1]), np.cos(x[0] + x[1]), 0],\n",
    "        [0, 8-2*np.cos(x[2]-x[1])*np.sin(x[2]-x[1]), 2*np.cos(x[2]-x[1])*np.sin(x[2]-x[1])],\n",
    "        [0, 0, 12+np.cos(x[2])]\n",
    "    ])\n",
    "    \n",
    "iterados = []\n",
    "raiz = NumMeth.MetodoNewtonMultivariado(F, JF, np.array([0,0,0]), 1e-6, iterates=iterados)\n",
    "raiz"
   ]
  },
  {
   "cell_type": "code",
   "execution_count": 3,
   "metadata": {},
   "outputs": [
    {
     "data": {
      "text/plain": [
       "array([-1.89676443e-07, -3.33066907e-16,  0.00000000e+00])"
      ]
     },
     "execution_count": 3,
     "metadata": {},
     "output_type": "execute_result"
    }
   ],
   "source": [
    "F(raiz)"
   ]
  },
  {
   "cell_type": "code",
   "execution_count": 4,
   "metadata": {},
   "outputs": [
    {
     "data": {
      "text/html": [
       "<div>\n",
       "<style scoped>\n",
       "    .dataframe tbody tr th:only-of-type {\n",
       "        vertical-align: middle;\n",
       "    }\n",
       "\n",
       "    .dataframe tbody tr th {\n",
       "        vertical-align: top;\n",
       "    }\n",
       "\n",
       "    .dataframe thead th {\n",
       "        text-align: right;\n",
       "    }\n",
       "</style>\n",
       "<table border=\"1\" class=\"dataframe\">\n",
       "  <thead>\n",
       "    <tr style=\"text-align: right;\">\n",
       "      <th></th>\n",
       "      <th>x</th>\n",
       "      <th>y</th>\n",
       "      <th>z</th>\n",
       "    </tr>\n",
       "  </thead>\n",
       "  <tbody>\n",
       "    <tr>\n",
       "      <th>0</th>\n",
       "      <td>0.00000000</td>\n",
       "      <td>0.00000000</td>\n",
       "      <td>0.00000000</td>\n",
       "    </tr>\n",
       "    <tr>\n",
       "      <th>1</th>\n",
       "      <td>0.06818182</td>\n",
       "      <td>0.25000000</td>\n",
       "      <td>0.07692308</td>\n",
       "    </tr>\n",
       "    <tr>\n",
       "      <th>2</th>\n",
       "      <td>0.06822098</td>\n",
       "      <td>0.24644385</td>\n",
       "      <td>0.07692891</td>\n",
       "    </tr>\n",
       "    <tr>\n",
       "      <th>3</th>\n",
       "      <td>0.06822329</td>\n",
       "      <td>0.24644242</td>\n",
       "      <td>0.07692891</td>\n",
       "    </tr>\n",
       "    <tr>\n",
       "      <th>4</th>\n",
       "      <td>0.06822349</td>\n",
       "      <td>0.24644242</td>\n",
       "      <td>0.07692891</td>\n",
       "    </tr>\n",
       "  </tbody>\n",
       "</table>\n",
       "</div>"
      ],
      "text/plain": [
       "            x           y           z\n",
       "0  0.00000000  0.00000000  0.00000000\n",
       "1  0.06818182  0.25000000  0.07692308\n",
       "2  0.06822098  0.24644385  0.07692891\n",
       "3  0.06822329  0.24644242  0.07692891\n",
       "4  0.06822349  0.24644242  0.07692891"
      ]
     },
     "execution_count": 4,
     "metadata": {},
     "output_type": "execute_result"
    }
   ],
   "source": [
    "pd.DataFrame({\"x\": [f\"{x[0]:.8f}\" for x in iterados], \"y\": [f\"{x[1]:.8f}\" for x in iterados], \"z\": [f\"{x[2]:.8f}\" for x in iterados]})"
   ]
  },
  {
   "cell_type": "markdown",
   "metadata": {},
   "source": [
    "### Problema 2"
   ]
  },
  {
   "cell_type": "markdown",
   "metadata": {},
   "source": [
    "Inciso a)"
   ]
  },
  {
   "cell_type": "code",
   "execution_count": 5,
   "metadata": {},
   "outputs": [
    {
     "data": {
      "text/plain": [
       "array([1.81818182e-01, 1.81818182e-01, 9.41176471e-02, 1.81818182e-01,\n",
       "       1.03529412e-01, 9.84875264e-18])"
      ]
     },
     "execution_count": 5,
     "metadata": {},
     "output_type": "execute_result"
    }
   ],
   "source": [
    "A = np.array([\n",
    "    [5.5, 0, 0, 0, 0, 3.5],\n",
    "    [0, 5.5, 0, 0, 0, 1.5],\n",
    "    [0, 0, 6.5, 0, 3.75, 0],\n",
    "    [0, 0, 0, 5.5, 0, 0.5],\n",
    "    [0, 0, 3.75, 0, 6.25, 0],\n",
    "    [3.5, 1.5, 0, 0.5, 0, 5.5]\n",
    "])\n",
    "b = np.array([1, 1, 1, 1, 1, 1])\n",
    "sol = NumMeth.solveByGaussianElimination(A, b)\n",
    "sol"
   ]
  },
  {
   "cell_type": "code",
   "execution_count": 6,
   "metadata": {},
   "outputs": [
    {
     "data": {
      "text/plain": [
       "array([1., 1., 1., 1., 1., 1.])"
      ]
     },
     "execution_count": 6,
     "metadata": {},
     "output_type": "execute_result"
    }
   ],
   "source": [
    "A@sol"
   ]
  },
  {
   "cell_type": "markdown",
   "metadata": {},
   "source": [
    "Inciso b)"
   ]
  },
  {
   "cell_type": "code",
   "execution_count": 7,
   "metadata": {},
   "outputs": [
    {
     "data": {
      "text/html": [
       "<div>\n",
       "<style scoped>\n",
       "    .dataframe tbody tr th:only-of-type {\n",
       "        vertical-align: middle;\n",
       "    }\n",
       "\n",
       "    .dataframe tbody tr th {\n",
       "        vertical-align: top;\n",
       "    }\n",
       "\n",
       "    .dataframe thead th {\n",
       "        text-align: right;\n",
       "    }\n",
       "</style>\n",
       "<table border=\"1\" class=\"dataframe\">\n",
       "  <thead>\n",
       "    <tr style=\"text-align: right;\">\n",
       "      <th></th>\n",
       "      <th>0</th>\n",
       "      <th>1</th>\n",
       "      <th>2</th>\n",
       "      <th>3</th>\n",
       "      <th>4</th>\n",
       "      <th>5</th>\n",
       "    </tr>\n",
       "  </thead>\n",
       "  <tbody>\n",
       "    <tr>\n",
       "      <th>0</th>\n",
       "      <td>2.345208</td>\n",
       "      <td>0.000000</td>\n",
       "      <td>0.000000</td>\n",
       "      <td>0.000000</td>\n",
       "      <td>0.000000</td>\n",
       "      <td>0.000000</td>\n",
       "    </tr>\n",
       "    <tr>\n",
       "      <th>1</th>\n",
       "      <td>0.000000</td>\n",
       "      <td>2.345208</td>\n",
       "      <td>0.000000</td>\n",
       "      <td>0.000000</td>\n",
       "      <td>0.000000</td>\n",
       "      <td>0.000000</td>\n",
       "    </tr>\n",
       "    <tr>\n",
       "      <th>2</th>\n",
       "      <td>0.000000</td>\n",
       "      <td>0.000000</td>\n",
       "      <td>2.549510</td>\n",
       "      <td>0.000000</td>\n",
       "      <td>0.000000</td>\n",
       "      <td>0.000000</td>\n",
       "    </tr>\n",
       "    <tr>\n",
       "      <th>3</th>\n",
       "      <td>0.000000</td>\n",
       "      <td>0.000000</td>\n",
       "      <td>0.000000</td>\n",
       "      <td>2.345208</td>\n",
       "      <td>0.000000</td>\n",
       "      <td>0.000000</td>\n",
       "    </tr>\n",
       "    <tr>\n",
       "      <th>4</th>\n",
       "      <td>0.000000</td>\n",
       "      <td>0.000000</td>\n",
       "      <td>1.470871</td>\n",
       "      <td>0.000000</td>\n",
       "      <td>2.021519</td>\n",
       "      <td>0.000000</td>\n",
       "    </tr>\n",
       "    <tr>\n",
       "      <th>5</th>\n",
       "      <td>1.492405</td>\n",
       "      <td>0.639602</td>\n",
       "      <td>0.000000</td>\n",
       "      <td>0.213201</td>\n",
       "      <td>0.000000</td>\n",
       "      <td>1.678744</td>\n",
       "    </tr>\n",
       "  </tbody>\n",
       "</table>\n",
       "</div>"
      ],
      "text/plain": [
       "          0         1         2         3         4         5\n",
       "0  2.345208  0.000000  0.000000  0.000000  0.000000  0.000000\n",
       "1  0.000000  2.345208  0.000000  0.000000  0.000000  0.000000\n",
       "2  0.000000  0.000000  2.549510  0.000000  0.000000  0.000000\n",
       "3  0.000000  0.000000  0.000000  2.345208  0.000000  0.000000\n",
       "4  0.000000  0.000000  1.470871  0.000000  2.021519  0.000000\n",
       "5  1.492405  0.639602  0.000000  0.213201  0.000000  1.678744"
      ]
     },
     "execution_count": 7,
     "metadata": {},
     "output_type": "execute_result"
    }
   ],
   "source": [
    "L, U = NumMeth.FactorizacionLU(A)\n",
    "D = np.diag(U.diagonal())\n",
    "D_sqrt = np.diag([uii**0.5 for uii in D.diagonal()])\n",
    "L_chol = L@D_sqrt\n",
    "pd.DataFrame(L_chol)"
   ]
  },
  {
   "cell_type": "code",
   "execution_count": 8,
   "metadata": {},
   "outputs": [
    {
     "data": {
      "text/html": [
       "<div>\n",
       "<style scoped>\n",
       "    .dataframe tbody tr th:only-of-type {\n",
       "        vertical-align: middle;\n",
       "    }\n",
       "\n",
       "    .dataframe tbody tr th {\n",
       "        vertical-align: top;\n",
       "    }\n",
       "\n",
       "    .dataframe thead th {\n",
       "        text-align: right;\n",
       "    }\n",
       "</style>\n",
       "<table border=\"1\" class=\"dataframe\">\n",
       "  <thead>\n",
       "    <tr style=\"text-align: right;\">\n",
       "      <th></th>\n",
       "      <th>0</th>\n",
       "      <th>1</th>\n",
       "      <th>2</th>\n",
       "      <th>3</th>\n",
       "      <th>4</th>\n",
       "      <th>5</th>\n",
       "    </tr>\n",
       "  </thead>\n",
       "  <tbody>\n",
       "    <tr>\n",
       "      <th>0</th>\n",
       "      <td>2.345208</td>\n",
       "      <td>0.000000</td>\n",
       "      <td>0.00000</td>\n",
       "      <td>0.000000</td>\n",
       "      <td>0.000000</td>\n",
       "      <td>1.492405</td>\n",
       "    </tr>\n",
       "    <tr>\n",
       "      <th>1</th>\n",
       "      <td>0.000000</td>\n",
       "      <td>2.345208</td>\n",
       "      <td>0.00000</td>\n",
       "      <td>0.000000</td>\n",
       "      <td>0.000000</td>\n",
       "      <td>0.639602</td>\n",
       "    </tr>\n",
       "    <tr>\n",
       "      <th>2</th>\n",
       "      <td>0.000000</td>\n",
       "      <td>0.000000</td>\n",
       "      <td>2.54951</td>\n",
       "      <td>0.000000</td>\n",
       "      <td>1.470871</td>\n",
       "      <td>0.000000</td>\n",
       "    </tr>\n",
       "    <tr>\n",
       "      <th>3</th>\n",
       "      <td>0.000000</td>\n",
       "      <td>0.000000</td>\n",
       "      <td>0.00000</td>\n",
       "      <td>2.345208</td>\n",
       "      <td>0.000000</td>\n",
       "      <td>0.213201</td>\n",
       "    </tr>\n",
       "    <tr>\n",
       "      <th>4</th>\n",
       "      <td>0.000000</td>\n",
       "      <td>0.000000</td>\n",
       "      <td>0.00000</td>\n",
       "      <td>0.000000</td>\n",
       "      <td>2.021519</td>\n",
       "      <td>0.000000</td>\n",
       "    </tr>\n",
       "    <tr>\n",
       "      <th>5</th>\n",
       "      <td>0.000000</td>\n",
       "      <td>0.000000</td>\n",
       "      <td>0.00000</td>\n",
       "      <td>0.000000</td>\n",
       "      <td>0.000000</td>\n",
       "      <td>1.678744</td>\n",
       "    </tr>\n",
       "  </tbody>\n",
       "</table>\n",
       "</div>"
      ],
      "text/plain": [
       "          0         1        2         3         4         5\n",
       "0  2.345208  0.000000  0.00000  0.000000  0.000000  1.492405\n",
       "1  0.000000  2.345208  0.00000  0.000000  0.000000  0.639602\n",
       "2  0.000000  0.000000  2.54951  0.000000  1.470871  0.000000\n",
       "3  0.000000  0.000000  0.00000  2.345208  0.000000  0.213201\n",
       "4  0.000000  0.000000  0.00000  0.000000  2.021519  0.000000\n",
       "5  0.000000  0.000000  0.00000  0.000000  0.000000  1.678744"
      ]
     },
     "execution_count": 8,
     "metadata": {},
     "output_type": "execute_result"
    }
   ],
   "source": [
    "pd.DataFrame(L_chol.T)"
   ]
  },
  {
   "cell_type": "code",
   "execution_count": 9,
   "metadata": {},
   "outputs": [
    {
     "data": {
      "text/plain": [
       "array([[5.5 , 0.  , 0.  , 0.  , 0.  , 3.5 ],\n",
       "       [0.  , 5.5 , 0.  , 0.  , 0.  , 1.5 ],\n",
       "       [0.  , 0.  , 6.5 , 0.  , 3.75, 0.  ],\n",
       "       [0.  , 0.  , 0.  , 5.5 , 0.  , 0.5 ],\n",
       "       [0.  , 0.  , 3.75, 0.  , 6.25, 0.  ],\n",
       "       [3.5 , 1.5 , 0.  , 0.5 , 0.  , 5.5 ]])"
      ]
     },
     "execution_count": 9,
     "metadata": {},
     "output_type": "execute_result"
    }
   ],
   "source": [
    "L_chol@L_chol.T"
   ]
  },
  {
   "cell_type": "markdown",
   "metadata": {},
   "source": [
    "Inciso c)"
   ]
  },
  {
   "cell_type": "code",
   "execution_count": 10,
   "metadata": {},
   "outputs": [
    {
     "data": {
      "text/plain": [
       "array([10.12708275,  9.34057287,  5.5       ,  5.5       ,  2.62291724,\n",
       "        1.65942713])"
      ]
     },
     "execution_count": 10,
     "metadata": {},
     "output_type": "execute_result"
    }
   ],
   "source": [
    "eig_vals = NumMeth.MetodoPotenciaConHouseholder(A)\n",
    "eig_vals"
   ]
  },
  {
   "cell_type": "markdown",
   "metadata": {},
   "source": [
    "$\\rho(A)\\rho(A^{-1}) = \\frac{|\\lambda_{max}|}{|\\lambda_{min}|} \\leq ||A||\\cdot ||A^{-1}|| = k(A)$"
   ]
  },
  {
   "cell_type": "code",
   "execution_count": 11,
   "metadata": {},
   "outputs": [
    {
     "data": {
      "text/plain": [
       "6.102758335643216"
      ]
     },
     "execution_count": 11,
     "metadata": {},
     "output_type": "execute_result"
    }
   ],
   "source": [
    "# aproximación a número de condición de A\n",
    "10.12708275/1.65942713"
   ]
  },
  {
   "cell_type": "code",
   "execution_count": 28,
   "metadata": {},
   "outputs": [
    {
     "name": "stdout",
     "output_type": "stream",
     "text": [
      "1) eigenvalor: 10.127082754830809\n",
      "eigenvector: [1.50160889e-10 6.74349427e-11 7.18788853e-01 2.44451807e-11\n",
      " 6.95228441e-01 1.65973406e-10] \n",
      "\n",
      "2) eigenvalor: 9.340572874035589\n",
      "eigenvector: [-6.44401791e-01 -2.76173377e-01  6.17449639e-06 -9.20585466e-02\n",
      "  6.19630924e-06 -7.07106655e-01] \n",
      "\n",
      "3) eigenvalor: 5.499999999981878\n",
      "eigenvector: [-3.63877968e-01  6.16225625e-01  5.47845758e-12  6.98468900e-01\n",
      "  2.20193245e-12  7.04464519e-12] \n",
      "\n",
      "4) eigenvalor: 5.499999999993255\n",
      "eigenvector: [-3.63877968e-01  6.16225625e-01  5.47847005e-12  6.98468900e-01\n",
      "  2.20193746e-12  7.04466122e-12] \n",
      "\n",
      "5) eigenvalor: 2.622917244993065\n",
      "eigenvector: [ 7.69758940e-11  8.36144367e-11  6.95228441e-01  6.01972086e-11\n",
      " -7.18788853e-01 -8.16954588e-11] \n",
      "\n",
      "6) eigenvalor: 1.6594271261654072\n",
      "eigenvector: [ 6.44402233e-01  2.76172385e-01  6.43635362e-11  9.20574618e-02\n",
      " -5.64487800e-11 -7.07106781e-01] \n",
      "\n"
     ]
    }
   ],
   "source": [
    "np.random.seed(0)\n",
    "x_init = np.random.rand(len(A))\n",
    "eig_vecs = []\n",
    "for eig in eig_vals:\n",
    "    eig1, eig_vec = NumMeth.MetodoPotenciaInversaDesplazamiento(A, x_init, p=eig+1e-5)\n",
    "    eig_vecs.append(eig_vec)\n",
    "\n",
    "for i, (eig, eig_vec)in enumerate(zip(eig_vals, eig_vecs)):\n",
    "    print(f\"{i+1}) eigenvalor:\", eig)\n",
    "    print(\"eigenvector:\", eig_vec, \"\\n\")"
   ]
  },
  {
   "cell_type": "markdown",
   "metadata": {},
   "source": [
    "### Problema 3"
   ]
  },
  {
   "cell_type": "markdown",
   "metadata": {},
   "source": [
    "Inciso a)"
   ]
  },
  {
   "cell_type": "markdown",
   "metadata": {},
   "source": [
    "$p(x) = f(x_0) + \\sum_{k=1}^5 f[x_0, \\ldots, x_k] \\prod_{j=0}^{k-1}(x-x_j)$"
   ]
  },
  {
   "cell_type": "code",
   "execution_count": 61,
   "metadata": {},
   "outputs": [
    {
     "name": "stdout",
     "output_type": "stream",
     "text": [
      "f['x_0'] = 1.5708\n",
      "f['x_0', 'x_1'] = -0.40040000000000076\n",
      "f['x_0', 'x_1', 'x_2'] = -0.08399999999999519\n",
      "f['x_0', 'x_1', 'x_2', 'x_3'] = -0.04666666666667823\n",
      "f['x_0', 'x_1', 'x_2', 'x_3', 'x_4'] = -0.020833333333356227\n",
      "f['x_0', 'x_1', 'x_2', 'x_3', 'x_4', 'x_5'] = -0.09166666666627801\n"
     ]
    }
   ],
   "source": [
    "m_arr = np.array([0, 0.1, 0.2, 0.3, 0.4, 0.5])\n",
    "Em_arr = np.array([1.57080, 1.53076, 1.48904, 1.44536, 1.39939, 1.35064])\n",
    "polinomio = NumMeth.PolinomioNewton(m_arr, Em_arr)\n",
    "dif_div = polinomio.fit() # diferencias divididas\n",
    "for i, coef in enumerate(dif_div):\n",
    "    print(f\"f{['x_'+str(j) for j in range(i+1)]} = {coef}\")"
   ]
  },
  {
   "cell_type": "code",
   "execution_count": 15,
   "metadata": {},
   "outputs": [
    {
     "data": {
      "text/plain": [
       "[<matplotlib.lines.Line2D at 0x1268fb160>]"
      ]
     },
     "execution_count": 15,
     "metadata": {},
     "output_type": "execute_result"
    },
    {
     "data": {
      "image/png": "[encoded data removed]",
      "text/plain": [
       "<Figure size 640x480 with 1 Axes>"
      ]
     },
     "metadata": {},
     "output_type": "display_data"
    }
   ],
   "source": [
    "x_axis = np.linspace(0, 0.5, 50)\n",
    "plt.scatter(m_arr, Em_arr)\n",
    "plt.plot(x_axis, [polinomio.evaluate(x0) for x0 in x_axis])"
   ]
  },
  {
   "cell_type": "code",
   "execution_count": 34,
   "metadata": {},
   "outputs": [
    {
     "data": {
      "text/plain": [
       "0.36"
      ]
     },
     "execution_count": 34,
     "metadata": {},
     "output_type": "execute_result"
    }
   ],
   "source": [
    "a, b = 5, 4\n",
    "(a**2 - b**2)/(a**2)"
   ]
  },
  {
   "cell_type": "code",
   "execution_count": 35,
   "metadata": {},
   "outputs": [
    {
     "data": {
      "text/plain": [
       "28.3615858944"
      ]
     },
     "execution_count": 35,
     "metadata": {},
     "output_type": "execute_result"
    }
   ],
   "source": [
    "L = polinomio.evaluate(0.36)*4*a\n",
    "L"
   ]
  },
  {
   "cell_type": "code",
   "execution_count": 60,
   "metadata": {},
   "outputs": [
    {
     "data": {
      "text/plain": [
       "6.988800000000005e-09"
      ]
     },
     "execution_count": 60,
     "metadata": {},
     "output_type": "execute_result"
    }
   ],
   "source": [
    "(0.36-m_arr).prod()/(6*5*4*3*2) # error salvo factor E^{(6)}"
   ]
  },
  {
   "cell_type": "markdown",
   "metadata": {},
   "source": [
    "Inciso b)"
   ]
  },
  {
   "cell_type": "code",
   "execution_count": 36,
   "metadata": {},
   "outputs": [],
   "source": [
    "def g(omega: float) -> float:\n",
    "    a, b = 5, 4\n",
    "    m = (a**2 - b**2)/(a**2)\n",
    "    return (1-m*np.sin(omega)**2)**0.5"
   ]
  },
  {
   "cell_type": "code",
   "execution_count": 74,
   "metadata": {},
   "outputs": [
    {
     "data": {
      "text/plain": [
       "28.361667888974477"
      ]
     },
     "execution_count": 74,
     "metadata": {},
     "output_type": "execute_result"
    }
   ],
   "source": [
    "n = 41\n",
    "xis = np.linspace(0, np.pi/2, n)\n",
    "yis = np.array([g(xi) for xi in xis])\n",
    "I = NumMeth.IntegracionSimpson(xis, yis)\n",
    "L1 = I*4*a\n",
    "L1"
   ]
  },
  {
   "cell_type": "code",
   "execution_count": 76,
   "metadata": {},
   "outputs": [
    {
     "data": {
      "text/plain": [
       "1.3457585364713461e-05"
      ]
     },
     "execution_count": 76,
     "metadata": {},
     "output_type": "execute_result"
    }
   ],
   "source": [
    "h = (np.pi/2)/(n-1)\n",
    "(np.pi/2)/180*h**2"
   ]
  }
 ],
 "metadata": {
  "kernelspec": {
   "display_name": "Python 3",
   "language": "python",
   "name": "python3"
  },
  "language_info": {
   "codemirror_mode": {
    "name": "ipython",
    "version": 3
   },
   "file_extension": ".py",
   "mimetype": "text/x-python",
   "name": "python",
   "nbconvert_exporter": "python",
   "pygments_lexer": "ipython3",
   "version": "3.9.6"
  }
 },
 "nbformat": 4,
 "nbformat_minor": 2
}
