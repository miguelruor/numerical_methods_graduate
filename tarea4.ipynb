{
 "cells": [
  {
   "cell_type": "markdown",
   "metadata": {},
   "source": [
    "### Tarea 4, Métodos Numéricos, Miguel Angel Ruiz Ortiz"
   ]
  },
  {
   "cell_type": "code",
   "execution_count": 14,
   "metadata": {},
   "outputs": [],
   "source": [
    "import numpy as np\n",
    "import pandas as pd\n",
    "import math\n",
    "import matplotlib.pyplot as plt\n",
    "from numerical_methods import solveByGaussianElimination\n",
    "from typing import Callable, List, Optional"
   ]
  },
  {
   "cell_type": "markdown",
   "metadata": {},
   "source": [
    "### Problema 2"
   ]
  },
  {
   "cell_type": "markdown",
   "metadata": {},
   "source": [
    "Considera la función \n",
    "$$f(x) = e^{6x} + 3(\\ln 2)^2e^{2x} - (\\ln 8)e^{4x} - (\\ln 2)^3.$$"
   ]
  },
  {
   "cell_type": "code",
   "execution_count": 2,
   "metadata": {},
   "outputs": [],
   "source": [
    "def f(x: float) -> float:\n",
    "    return math.exp(6*x) + 3*(math.log(2)**2)*math.exp(2*x)-math.log(8)*math.exp(4*x) - (math.log(2))**3"
   ]
  },
  {
   "cell_type": "markdown",
   "metadata": {},
   "source": [
    "a) Implementa un método de localización de raíces y obtén un intervalo cercano a la raíz."
   ]
  },
  {
   "cell_type": "markdown",
   "metadata": {},
   "source": [
    "Primero averiguaremos el comportamiento de la función a través de su gráfica para encontrar $a, b \\in \\mathbb{R}$ tales que $f(a)f(b) < 0$."
   ]
  },
  {
   "cell_type": "code",
   "execution_count": 3,
   "metadata": {},
   "outputs": [
    {
     "data": {
      "text/plain": [
       "[(-10, -0.33302464901806705),\n",
       " (-9, -0.3330246300370609),\n",
       " (-8, -0.3330244897853642),\n",
       " (-7, -0.3330234534589295),\n",
       " (-6, -0.33301579605140097),\n",
       " (-5, -0.33295921867562617),\n",
       " (-4, -0.33254136386959726),\n",
       " (-3, -0.3294646414272511),\n",
       " (-2, -0.3073166709829284),\n",
       " (-1, -0.17356546601839162),\n",
       " (0, 0.028892848085838863),\n",
       " (1, 300.21239038118347)]"
      ]
     },
     "execution_count": 3,
     "metadata": {},
     "output_type": "execute_result"
    },
    {
     "data": {
      "image/png": "[encoded data removed]",
      "text/plain": [
       "<Figure size 640x480 with 1 Axes>"
      ]
     },
     "metadata": {},
     "output_type": "display_data"
    }
   ],
   "source": [
    "x_axis = np.arange(-10, 2)\n",
    "y_axis = np.array([f(x) for x in x_axis])\n",
    "plt.plot(x_axis, y_axis)\n",
    "list(zip(x_axis, y_axis)) # pares (x, f(x))"
   ]
  },
  {
   "cell_type": "markdown",
   "metadata": {},
   "source": [
    "Con esto notamos que $f(x)<0$ para $x < = -1$, y $f(1) >> 0$. Así que debe existir una raíz en el intervalo $[-1, 1]$. Usaremos el método de la bisección para encontrar un intervalo más pequeño cercano a la raíz."
   ]
  },
  {
   "cell_type": "code",
   "execution_count": 4,
   "metadata": {},
   "outputs": [],
   "source": [
    "def MetodoBiseccion(f: Callable[[float], float], a: float, b: float, epsilon: float, TOL: float = 1e-8) -> float:\n",
    "    \"\"\"Método de la bisección para localización de raíces de una función f continua en un intervalo [a, b] tal que f(a)f(b) < 0. Si se necesita encontrar un intervalo [d, c] que contenga a la raíz\n",
    "    de tamaño menor que epsilon, entonces se regresa el punto medio del intervalo. Si la función encuentra la raíz m en algún momento (|f(m)| < TOL), entonces se regresa m.\n",
    "\n",
    "    :param f: Función continua f a la que se le quiere localizar una raíz.\n",
    "    :type f: Callable[[float], float]\n",
    "    :param a: Extremo izquierdo del intervalo en donde se buscará la raíz.\n",
    "    :type a: float\n",
    "    :param b: Extremo derecho del intervalo en donde se buscará la raíz.\n",
    "    :type b: float\n",
    "    :param epsilon: Tamaño del intervalo que contendrá a la raíz.\n",
    "    :type epsilon: float\n",
    "    :param TOL: Tolerancia para saber si se ha encontrado una raíz m, i.e., si |f(m)| < TOL (un número pequeño), defaults to 1e-8\n",
    "    :type TOL: float, optional\n",
    "    :raises Exception: Se levanta una excepción si no se cumple que f(a)f(b) < 0.\n",
    "    :return: Punto medio del intervalo de tamaño epsilon que contendrá a la raíz (puede coincidir con la raíz).\n",
    "    :rtype: float\n",
    "    \"\"\"    \n",
    "    \n",
    "    if f(a)*f(b) > 0:\n",
    "        raise Exception(\"Se necesita que f(a)f(b) < 0.\")\n",
    "    \n",
    "    while abs(b-a) > epsilon:\n",
    "        m  = (a+b)/2\n",
    "        \n",
    "        if abs(f(m)) < TOL:\n",
    "            return m\n",
    "        \n",
    "        if f(m)*f(a) > 0:\n",
    "            a = m\n",
    "        else:\n",
    "            b = m\n",
    "    \n",
    "    return (a+b)/2"
   ]
  },
  {
   "cell_type": "markdown",
   "metadata": {},
   "source": [
    "Obtenemos un intervalo de tamaño $\\epsilon = 0.5$ que contiene a la raíz:"
   ]
  },
  {
   "cell_type": "code",
   "execution_count": 5,
   "metadata": {},
   "outputs": [
    {
     "name": "stdout",
     "output_type": "stream",
     "text": [
      "Intervalo que contiene a la raíz de f: [-0.5, 0.0]\n",
      "Punto medio: -0.25\n",
      "Valor de f en punto medio: -0.0006498336641710956\n"
     ]
    }
   ],
   "source": [
    "epsilon = 0.5\n",
    "m = MetodoBiseccion(f, -1, 1, epsilon)\n",
    "print(f\"Intervalo que contiene a la raíz de f: [{m-epsilon/2}, {m+epsilon/2}]\")\n",
    "print(\"Punto medio:\", m)\n",
    "print(\"Valor de f en punto medio:\", f(m))"
   ]
  },
  {
   "cell_type": "markdown",
   "metadata": {},
   "source": [
    "b) Usar el método de Newton o de la secante para aproximar a una raíz de $f$, tomando $x_0$ dentro del intervalo propuesto en el apartado anterior y una condición de paro $|x_{k+1} − x_k| < 0.0002$. Presenta la tabla de iterados."
   ]
  },
  {
   "cell_type": "code",
   "execution_count": 6,
   "metadata": {},
   "outputs": [],
   "source": [
    "def MetodoNewton(\n",
    "    f: Callable[[float], float], \n",
    "    df: Callable[[float], float], \n",
    "    x0: float, \n",
    "    epsilon: float,\n",
    "    MAX_ITER: int = 10**5,\n",
    "    iterates: Optional[List[float]] = None\n",
    "    ) -> float:\n",
    "    \"\"\"Método de Newton para encontrar una raíz de una función diferenciable f. Es un método iterativo cuyo valor inicial x0 debe ser cercano a la raíz.\n",
    "\n",
    "    :param f: Función diferenciable a la cual se le quiere encontrar una raíz.\n",
    "    :type f: Callable[[float], float]\n",
    "    :param df: Derivada de f.\n",
    "    :type df: Callable[[float], float]\n",
    "    :param x0: Valor inicial del algoritmo iterativo.\n",
    "    :type x0: float\n",
    "    :param epsilon: Tolerancia para condición de paro, i.e., se detienen las iteraciones cuando |x_{k+1} - x_k| < epsilon\n",
    "    :type epsilon: float\n",
    "    :param MAX_ITER: Número máximo de iteraciones en el algoritmo\n",
    "    :type MAX_ITER: int\n",
    "    :param iterates: Lista opcional para guardar los iterados, defaults to None\n",
    "    :type iterates: Optional[List[float]], optional\n",
    "    :raises Exception: Se levanta una excepción si se llega al número máximo de iteraciones sin haber llegado a la condición de paro\n",
    "    :return: Raíz de la función f\n",
    "    :rtype: float\n",
    "    \"\"\"    \n",
    "\n",
    "    xk = x0\n",
    "    \n",
    "    if iterates is not None:\n",
    "        iterates.append(xk)\n",
    "    \n",
    "    for _ in range(MAX_ITER):        \n",
    "        xk_1 = xk - f(xk)/df(xk)\n",
    "        \n",
    "        if iterates is not None:\n",
    "            iterates.append(xk_1)\n",
    "        \n",
    "        if abs(xk_1 - xk) < epsilon:\n",
    "            return xk_1\n",
    "        \n",
    "        xk = xk_1\n",
    "    \n",
    "    raise Exception(\"El método de Newton no convergió (máximo número de iteraciones alcanzado)\")"
   ]
  },
  {
   "cell_type": "markdown",
   "metadata": {},
   "source": [
    "Usaremos el método de Newton, por lo que ocupamos la derivada de $f$. Su derivada es\n",
    "$$f'(x) = 6e^{6x} + 6(\\ln 2)^2e^{2x} - 4(\\ln 8)e^{4x}.$$"
   ]
  },
  {
   "cell_type": "code",
   "execution_count": 7,
   "metadata": {},
   "outputs": [],
   "source": [
    "def df(x: float) -> float:\n",
    "    # derivada de f\n",
    "    return 6*math.exp(6*x) + 6*(math.log(2)**2)*math.exp(2*x)-4*math.log(8)*math.exp(4*x)"
   ]
  },
  {
   "cell_type": "code",
   "execution_count": 8,
   "metadata": {},
   "outputs": [
    {
     "name": "stdout",
     "output_type": "stream",
     "text": [
      "Raíz encontrada (en 13 iteraciones): -0.1835669704142422\n",
      "Función evaluada en la raíz: -7.9687312304344e-11\n"
     ]
    }
   ],
   "source": [
    "iterates = []\n",
    "raiz = MetodoNewton(\n",
    "    f=f,\n",
    "    df=df,\n",
    "    x0=m,\n",
    "    epsilon=2e-4,\n",
    "    MAX_ITER=10000, \n",
    "    iterates=iterates\n",
    ")\n",
    "print(f\"Raíz encontrada (en {len(iterates)-1} iteraciones):\", raiz)\n",
    "print(\"Función evaluada en la raíz:\", f(raiz))"
   ]
  },
  {
   "cell_type": "markdown",
   "metadata": {},
   "source": [
    "La tabla de iterados se muestra a continuación. La primera columna \"Iterados\" muestra las iteraciones (empezando desde el valor inicial), y la segunda columna muestra la diferencia en valor absoluto de una iteración y la iteración anterior (i.e., $|x_k - x_{k-1}|$)."
   ]
  },
  {
   "cell_type": "code",
   "execution_count": 9,
   "metadata": {},
   "outputs": [
    {
     "data": {
      "text/html": [
       "<div>\n",
       "<style scoped>\n",
       "    .dataframe tbody tr th:only-of-type {\n",
       "        vertical-align: middle;\n",
       "    }\n",
       "\n",
       "    .dataframe tbody tr th {\n",
       "        vertical-align: top;\n",
       "    }\n",
       "\n",
       "    .dataframe thead th {\n",
       "        text-align: right;\n",
       "    }\n",
       "</style>\n",
       "<table border=\"1\" class=\"dataframe\">\n",
       "  <thead>\n",
       "    <tr style=\"text-align: right;\">\n",
       "      <th></th>\n",
       "      <th>Iterados</th>\n",
       "      <th>|x_k - x_{k-1}|</th>\n",
       "    </tr>\n",
       "  </thead>\n",
       "  <tbody>\n",
       "    <tr>\n",
       "      <th>Iteración 0</th>\n",
       "      <td>-0.250000</td>\n",
       "      <td>NaN</td>\n",
       "    </tr>\n",
       "    <tr>\n",
       "      <th>Iteración 1</th>\n",
       "      <td>-0.226199</td>\n",
       "      <td>0.023801</td>\n",
       "    </tr>\n",
       "    <tr>\n",
       "      <th>Iteración 2</th>\n",
       "      <td>-0.211252</td>\n",
       "      <td>0.014947</td>\n",
       "    </tr>\n",
       "    <tr>\n",
       "      <th>Iteración 3</th>\n",
       "      <td>-0.201654</td>\n",
       "      <td>0.009598</td>\n",
       "    </tr>\n",
       "    <tr>\n",
       "      <th>Iteración 4</th>\n",
       "      <td>-0.195407</td>\n",
       "      <td>0.006247</td>\n",
       "    </tr>\n",
       "    <tr>\n",
       "      <th>Iteración 5</th>\n",
       "      <td>-0.191307</td>\n",
       "      <td>0.004100</td>\n",
       "    </tr>\n",
       "    <tr>\n",
       "      <th>Iteración 6</th>\n",
       "      <td>-0.188602</td>\n",
       "      <td>0.002705</td>\n",
       "    </tr>\n",
       "    <tr>\n",
       "      <th>Iteración 7</th>\n",
       "      <td>-0.186811</td>\n",
       "      <td>0.001791</td>\n",
       "    </tr>\n",
       "    <tr>\n",
       "      <th>Iteración 8</th>\n",
       "      <td>-0.185622</td>\n",
       "      <td>0.001189</td>\n",
       "    </tr>\n",
       "    <tr>\n",
       "      <th>Iteración 9</th>\n",
       "      <td>-0.184831</td>\n",
       "      <td>0.000790</td>\n",
       "    </tr>\n",
       "    <tr>\n",
       "      <th>Iteración 10</th>\n",
       "      <td>-0.184306</td>\n",
       "      <td>0.000526</td>\n",
       "    </tr>\n",
       "    <tr>\n",
       "      <th>Iteración 11</th>\n",
       "      <td>-0.183956</td>\n",
       "      <td>0.000350</td>\n",
       "    </tr>\n",
       "    <tr>\n",
       "      <th>Iteración 12</th>\n",
       "      <td>-0.183722</td>\n",
       "      <td>0.000233</td>\n",
       "    </tr>\n",
       "    <tr>\n",
       "      <th>Iteración 13</th>\n",
       "      <td>-0.183567</td>\n",
       "      <td>0.000155</td>\n",
       "    </tr>\n",
       "  </tbody>\n",
       "</table>\n",
       "</div>"
      ],
      "text/plain": [
       "              Iterados  |x_k - x_{k-1}|\n",
       "Iteración 0  -0.250000              NaN\n",
       "Iteración 1  -0.226199         0.023801\n",
       "Iteración 2  -0.211252         0.014947\n",
       "Iteración 3  -0.201654         0.009598\n",
       "Iteración 4  -0.195407         0.006247\n",
       "Iteración 5  -0.191307         0.004100\n",
       "Iteración 6  -0.188602         0.002705\n",
       "Iteración 7  -0.186811         0.001791\n",
       "Iteración 8  -0.185622         0.001189\n",
       "Iteración 9  -0.184831         0.000790\n",
       "Iteración 10 -0.184306         0.000526\n",
       "Iteración 11 -0.183956         0.000350\n",
       "Iteración 12 -0.183722         0.000233\n",
       "Iteración 13 -0.183567         0.000155"
      ]
     },
     "execution_count": 9,
     "metadata": {},
     "output_type": "execute_result"
    }
   ],
   "source": [
    "table = pd.DataFrame(\n",
    "    {\n",
    "        \"Iterados\": iterates, \n",
    "        \"|x_k - x_{k-1}|\": [None] + [abs(iterates[i+1] - iterates[i]) for i in range(len(iterates)-1)]\n",
    "    }, \n",
    "    index=[f\"Iteración {i}\" for i in range(len(iterates))]\n",
    "    )\n",
    "table"
   ]
  },
  {
   "cell_type": "markdown",
   "metadata": {},
   "source": [
    "c) Luego construye una sucesión $\\{x_k\\}_{k\\geq 0}$ mediante el método de Aitken que aproxime la raíz de $f$. Presenta la tabla de iterados. ¿Se aceleró la covergencia? Justifica tu respuesta."
   ]
  },
  {
   "cell_type": "code",
   "execution_count": 10,
   "metadata": {},
   "outputs": [],
   "source": [
    "def AceleracionAitken(x_n: List[float]) -> List[float]:\n",
    "    \"\"\"Aplica el método de Aitken a una sucesión dada para acelerar su convergencia.\n",
    "\n",
    "    :param x_n: Sucesión de interés, i.e., una lista de números.\n",
    "    :type x_n: List[float]\n",
    "    :raises Exception: Se levanta una excepción si la lista tiene menos de 3 elementos. El método necesita al menos 3.\n",
    "    :return: Sucesión de Aitken\n",
    "    :rtype: List[float]\n",
    "    \"\"\"    \n",
    "    n = len(x_n)\n",
    "    \n",
    "    if n < 3: \n",
    "        raise Exception(\"El método de aceleración de Aitken necesita al menos 3 elementos de la sucesión.\")\n",
    "    \n",
    "    aitken = [x_n[i] - (x_n[i+1]-x_n[i])**2/(x_n[i+2]-2*x_n[i+1]+x_n[i]) for i in range(n-2)]\n",
    "    \n",
    "    return aitken"
   ]
  },
  {
   "cell_type": "markdown",
   "metadata": {},
   "source": [
    "A continuación se presenta la tabla de iterados de la sucesión de Aitken y se compara con los iterados del método de Newton. \n",
    "- La primera columna muestra los iterados del método de Newton.\n",
    "- La segunda columna muestra los valores $|x_k-x_{k-1}|$ para el método de Newton.\n",
    "- La tercera columna muestra la diferencia $|x_k-\\alpha|$, donde $\\alpha$ fue la raíz encontrada en el inciso anterior ($\\alpha \\approx -0.1835$) y $\\{x_k\\}_k$ son los iterados del método de Newton.\n",
    "- La cuarta columna muestra los iterados de la sucesión de Aitken.\n",
    "- La quinta columna muestra los valores $|x_k-x_{k-1}|$ en la sucesión de Aitken.\n",
    "- La sexta columna muestra los diferencia $|x_k-\\alpha|$, donde $\\alpha$ fue la raíz encontrada y $\\{x_k\\}_k$ es la sucesión de Aitken."
   ]
  },
  {
   "cell_type": "code",
   "execution_count": 11,
   "metadata": {},
   "outputs": [
    {
     "data": {
      "text/html": [
       "<div>\n",
       "<style scoped>\n",
       "    .dataframe tbody tr th:only-of-type {\n",
       "        vertical-align: middle;\n",
       "    }\n",
       "\n",
       "    .dataframe tbody tr th {\n",
       "        vertical-align: top;\n",
       "    }\n",
       "\n",
       "    .dataframe thead th {\n",
       "        text-align: right;\n",
       "    }\n",
       "</style>\n",
       "<table border=\"1\" class=\"dataframe\">\n",
       "  <thead>\n",
       "    <tr style=\"text-align: right;\">\n",
       "      <th></th>\n",
       "      <th>Newton</th>\n",
       "      <th>|x_k - x_{k-1}| (Newton)</th>\n",
       "      <th>|x_k - alpha| (Newton)</th>\n",
       "      <th>Aitken</th>\n",
       "      <th>|x_k - x_{k-1}| (Aitken)</th>\n",
       "      <th>|x_k - alpha| (Aitken)</th>\n",
       "    </tr>\n",
       "  </thead>\n",
       "  <tbody>\n",
       "    <tr>\n",
       "      <th>Iteración 0</th>\n",
       "      <td>-0.250000</td>\n",
       "      <td>NaN</td>\n",
       "      <td>0.066433</td>\n",
       "      <td>NaN</td>\n",
       "      <td>NaN</td>\n",
       "      <td>NaN</td>\n",
       "    </tr>\n",
       "    <tr>\n",
       "      <th>Iteración 1</th>\n",
       "      <td>-0.226199</td>\n",
       "      <td>0.023801</td>\n",
       "      <td>0.042632</td>\n",
       "      <td>NaN</td>\n",
       "      <td>NaN</td>\n",
       "      <td>NaN</td>\n",
       "    </tr>\n",
       "    <tr>\n",
       "      <th>Iteración 2</th>\n",
       "      <td>-0.211252</td>\n",
       "      <td>0.014947</td>\n",
       "      <td>0.027685</td>\n",
       "      <td>-0.186020</td>\n",
       "      <td>NaN</td>\n",
       "      <td>0.002454</td>\n",
       "    </tr>\n",
       "    <tr>\n",
       "      <th>Iteración 3</th>\n",
       "      <td>-0.201654</td>\n",
       "      <td>0.009598</td>\n",
       "      <td>0.018087</td>\n",
       "      <td>-0.184431</td>\n",
       "      <td>1.589774e-03</td>\n",
       "      <td>0.000864</td>\n",
       "    </tr>\n",
       "    <tr>\n",
       "      <th>Iteración 4</th>\n",
       "      <td>-0.195407</td>\n",
       "      <td>0.006247</td>\n",
       "      <td>0.011840</td>\n",
       "      <td>-0.183764</td>\n",
       "      <td>6.670754e-04</td>\n",
       "      <td>0.000197</td>\n",
       "    </tr>\n",
       "    <tr>\n",
       "      <th>Iteración 5</th>\n",
       "      <td>-0.191307</td>\n",
       "      <td>0.004100</td>\n",
       "      <td>0.007740</td>\n",
       "      <td>-0.183478</td>\n",
       "      <td>2.858884e-04</td>\n",
       "      <td>0.000089</td>\n",
       "    </tr>\n",
       "    <tr>\n",
       "      <th>Iteración 6</th>\n",
       "      <td>-0.188602</td>\n",
       "      <td>0.002705</td>\n",
       "      <td>0.005035</td>\n",
       "      <td>-0.183354</td>\n",
       "      <td>1.241159e-04</td>\n",
       "      <td>0.000213</td>\n",
       "    </tr>\n",
       "    <tr>\n",
       "      <th>Iteración 7</th>\n",
       "      <td>-0.186811</td>\n",
       "      <td>0.001791</td>\n",
       "      <td>0.003244</td>\n",
       "      <td>-0.183299</td>\n",
       "      <td>5.432464e-05</td>\n",
       "      <td>0.000268</td>\n",
       "    </tr>\n",
       "    <tr>\n",
       "      <th>Iteración 8</th>\n",
       "      <td>-0.185622</td>\n",
       "      <td>0.001189</td>\n",
       "      <td>0.002055</td>\n",
       "      <td>-0.183275</td>\n",
       "      <td>2.390251e-05</td>\n",
       "      <td>0.000292</td>\n",
       "    </tr>\n",
       "    <tr>\n",
       "      <th>Iteración 9</th>\n",
       "      <td>-0.184831</td>\n",
       "      <td>0.000790</td>\n",
       "      <td>0.001264</td>\n",
       "      <td>-0.183265</td>\n",
       "      <td>1.055299e-05</td>\n",
       "      <td>0.000302</td>\n",
       "    </tr>\n",
       "    <tr>\n",
       "      <th>Iteración 10</th>\n",
       "      <td>-0.184306</td>\n",
       "      <td>0.000526</td>\n",
       "      <td>0.000739</td>\n",
       "      <td>-0.183260</td>\n",
       "      <td>4.669607e-06</td>\n",
       "      <td>0.000307</td>\n",
       "    </tr>\n",
       "    <tr>\n",
       "      <th>Iteración 11</th>\n",
       "      <td>-0.183956</td>\n",
       "      <td>0.000350</td>\n",
       "      <td>0.000389</td>\n",
       "      <td>-0.183258</td>\n",
       "      <td>2.069102e-06</td>\n",
       "      <td>0.000309</td>\n",
       "    </tr>\n",
       "    <tr>\n",
       "      <th>Iteración 12</th>\n",
       "      <td>-0.183722</td>\n",
       "      <td>0.000233</td>\n",
       "      <td>0.000155</td>\n",
       "      <td>-0.183257</td>\n",
       "      <td>9.179313e-07</td>\n",
       "      <td>0.000310</td>\n",
       "    </tr>\n",
       "    <tr>\n",
       "      <th>Iteración 13</th>\n",
       "      <td>-0.183567</td>\n",
       "      <td>0.000155</td>\n",
       "      <td>0.000000</td>\n",
       "      <td>-0.183257</td>\n",
       "      <td>4.076078e-07</td>\n",
       "      <td>0.000310</td>\n",
       "    </tr>\n",
       "  </tbody>\n",
       "</table>\n",
       "</div>"
      ],
      "text/plain": [
       "                Newton  |x_k - x_{k-1}| (Newton)  |x_k - alpha| (Newton)  \\\n",
       "Iteración 0  -0.250000                       NaN                0.066433   \n",
       "Iteración 1  -0.226199                  0.023801                0.042632   \n",
       "Iteración 2  -0.211252                  0.014947                0.027685   \n",
       "Iteración 3  -0.201654                  0.009598                0.018087   \n",
       "Iteración 4  -0.195407                  0.006247                0.011840   \n",
       "Iteración 5  -0.191307                  0.004100                0.007740   \n",
       "Iteración 6  -0.188602                  0.002705                0.005035   \n",
       "Iteración 7  -0.186811                  0.001791                0.003244   \n",
       "Iteración 8  -0.185622                  0.001189                0.002055   \n",
       "Iteración 9  -0.184831                  0.000790                0.001264   \n",
       "Iteración 10 -0.184306                  0.000526                0.000739   \n",
       "Iteración 11 -0.183956                  0.000350                0.000389   \n",
       "Iteración 12 -0.183722                  0.000233                0.000155   \n",
       "Iteración 13 -0.183567                  0.000155                0.000000   \n",
       "\n",
       "                Aitken  |x_k - x_{k-1}| (Aitken)  |x_k - alpha| (Aitken)  \n",
       "Iteración 0        NaN                       NaN                     NaN  \n",
       "Iteración 1        NaN                       NaN                     NaN  \n",
       "Iteración 2  -0.186020                       NaN                0.002454  \n",
       "Iteración 3  -0.184431              1.589774e-03                0.000864  \n",
       "Iteración 4  -0.183764              6.670754e-04                0.000197  \n",
       "Iteración 5  -0.183478              2.858884e-04                0.000089  \n",
       "Iteración 6  -0.183354              1.241159e-04                0.000213  \n",
       "Iteración 7  -0.183299              5.432464e-05                0.000268  \n",
       "Iteración 8  -0.183275              2.390251e-05                0.000292  \n",
       "Iteración 9  -0.183265              1.055299e-05                0.000302  \n",
       "Iteración 10 -0.183260              4.669607e-06                0.000307  \n",
       "Iteración 11 -0.183258              2.069102e-06                0.000309  \n",
       "Iteración 12 -0.183257              9.179313e-07                0.000310  \n",
       "Iteración 13 -0.183257              4.076078e-07                0.000310  "
      ]
     },
     "execution_count": 11,
     "metadata": {},
     "output_type": "execute_result"
    }
   ],
   "source": [
    "aitken = AceleracionAitken(iterates)\n",
    "table = pd.DataFrame(\n",
    "    {\n",
    "        \"Newton\": iterates, \n",
    "        \"|x_k - x_{k-1}| (Newton)\": [None] + [abs(iterates[i+1] - iterates[i]) for i in range(len(iterates)-1)],\n",
    "        \"|x_k - alpha| (Newton)\": [abs(iterates[i] - raiz) for i in range(len(iterates))],\n",
    "        \"Aitken\": [None, None]+aitken,\n",
    "        \"|x_k - x_{k-1}| (Aitken)\": [None, None, None] + [abs(aitken[i+1] - aitken[i]) for i in range(len(aitken)-1)],\n",
    "        \"|x_k - alpha| (Aitken)\": [None, None]+[abs(aitken[i] - raiz) for i in range(len(aitken))], \n",
    "    }, \n",
    "    index=[f\"Iteración {i}\" for i in range(len(iterates))]\n",
    "    )\n",
    "table"
   ]
  },
  {
   "cell_type": "code",
   "execution_count": 12,
   "metadata": {},
   "outputs": [
    {
     "data": {
      "text/plain": [
       "-0.1835669704142422"
      ]
     },
     "execution_count": 12,
     "metadata": {},
     "output_type": "execute_result"
    }
   ],
   "source": [
    "raiz"
   ]
  },
  {
   "cell_type": "markdown",
   "metadata": {},
   "source": [
    "Vemos que sí hay una aceleración en la convergencia utilizando el método de Aitken, ya que para el cuarto término de la sucesión de Aitken (6to renglón de la tabla) se obtiene un valor que dista de la raíz encontrada en $8.9\\times 10^{-5}$, además que la distancia entre términos consecutivos de la sucesión de Aitken rápidamente cae al orden de $10^{-4}$ (ver 5ta columna de la tabla a partir del 5to renglón), mientras que esto sólo sucede hasta la iteración 13 del método de Newton."
   ]
  },
  {
   "cell_type": "markdown",
   "metadata": {},
   "source": [
    "### Problema 3"
   ]
  },
  {
   "cell_type": "markdown",
   "metadata": {},
   "source": [
    "Considera el sistema no lineal\n",
    "$$\n",
    "x^2 - 10x + y^2 + 8 = 0, \\\\\n",
    "xy^2 + x - 10y + 8 = 0.\n",
    "$$"
   ]
  },
  {
   "cell_type": "markdown",
   "metadata": {},
   "source": [
    "a) Aplicar el método de Newton adaptado para sistemas con $X_0=(1, −1)$, considera una tolerancia de $10^{−6}$."
   ]
  },
  {
   "cell_type": "code",
   "execution_count": 15,
   "metadata": {},
   "outputs": [],
   "source": [
    "def MetodoNewtonMultivariado(\n",
    "    F: Callable[[np.array], np.array], \n",
    "    J_F: Callable[[np.array], np.array], \n",
    "    x0: np.array, \n",
    "    epsilon: float,\n",
    "    MAX_ITER: int = 10**5,\n",
    "    iterates: Optional[List[np.array]] = None\n",
    "    ) -> np.array:\n",
    "    \"\"\"Método de Newton para encontrar una raíz de una función diferenciable F de R^n a R^n, i.e., resolver F(X) = 0. Es un método iterativo cuyo vector inicial x0 debe ser cercano a la raíz.\n",
    "\n",
    "    :param F: Función de R^n a R^n diferenciable a la cual se le quiere encontrar una raíz (F(X) = 0).\n",
    "    :type F: Callable[[np.array], np.array]\n",
    "    :param J_F: Jacobiano de f. Función que recibe un vector x n-dimensional y regresa la matriz Jacobiana de F evaluada en x (de nxn).\n",
    "    :type J_F: Callable[[np.array], np.array]\n",
    "    :param x0: Vector n-dimensional inicial del algoritmo iterativo.\n",
    "    :type x0: np.array\n",
    "    :param epsilon: Tolerancia para condición de paro, i.e., se detienen las iteraciones cuando ||x_{k+1} - x_k|| < epsilon\n",
    "    :type epsilon: float\n",
    "    :param MAX_ITER: Número máximo de iteraciones en el algoritmo\n",
    "    :type MAX_ITER: int\n",
    "    :param iterates: Lista opcional para guardar los iterados, defaults to None\n",
    "    :type iterates: Optional[List[np.array]], optional\n",
    "    :raises Exception: Se levanta una excepción si se llega al número máximo de iteraciones sin haber llegado a la condición de paro\n",
    "    :return: Vector raíz X tal que F(X) = 0.\n",
    "    :rtype: np.array\n",
    "    \"\"\"    \n",
    "\n",
    "    xk = x0\n",
    "    \n",
    "    if iterates is not None:\n",
    "        iterates.append(xk)\n",
    "    \n",
    "    for _ in range(MAX_ITER):\n",
    "        # x_{k+1} = x_k - J_F^{-1}(x_k)F(x_k)\n",
    "        # Para evitar calcular J_F^{-1}(x_k), resolvemos el sistema  J_F(x_k)z = -F(x_k) para z y hacemos x_{k+1} = z + x_k\n",
    "        z = solveByGaussianElimination(J_F(xk), -F(xk))\n",
    "        xk_1 = z + xk\n",
    "        \n",
    "        if iterates is not None:\n",
    "            iterates.append(xk_1)\n",
    "        \n",
    "        if np.linalg.norm(xk_1 - xk) < epsilon:\n",
    "            return xk_1\n",
    "        \n",
    "        xk = xk_1\n",
    "    \n",
    "    raise Exception(\"El método de Newton multivariado no convergió (máximo número de iteraciones alcanzado)\")"
   ]
  },
  {
   "cell_type": "markdown",
   "metadata": {},
   "source": [
    "Queremos encontrar $(x,y)$ tal que $F(x,y) = (0,0)$, donde \n",
    "$$\n",
    "F(x,y) = (x^2-10x+y^2+8, xy^2 + x - 10y + 8).\n",
    "$$\n",
    "Notemos que su matriz Jacobiana es\n",
    "$$\n",
    "J_F(x,y) = \\begin{pmatrix}\n",
    "2x - 10 & 2y \\\\\n",
    "y^2 + 1 & 2xy - 10\n",
    "\\end{pmatrix}.\n",
    "$$"
   ]
  },
  {
   "cell_type": "code",
   "execution_count": 22,
   "metadata": {},
   "outputs": [],
   "source": [
    "def F(x: np.array) -> np.array:\n",
    "    # Función F de R^2 a R^2\n",
    "    return np.array([x[0]**2 - 10*x[0] + x[1]**2 + 8, x[0]*x[1]**2 + x[0] - 10*x[1] + 8], dtype=\"float64\")\n",
    "\n",
    "def J_F(x: np.array) -> np.array:\n",
    "    # Jacobiano de F\n",
    "    return np.array([\n",
    "        [2*x[0] - 10, 2*x[1]],\n",
    "        [x[1]**2 + 1, 2*x[0]*x[1] - 10],\n",
    "        ], dtype=\"float64\")"
   ]
  },
  {
   "cell_type": "code",
   "execution_count": 23,
   "metadata": {},
   "outputs": [
    {
     "data": {
      "text/plain": [
       "array([1., 1.])"
      ]
     },
     "execution_count": 23,
     "metadata": {},
     "output_type": "execute_result"
    }
   ],
   "source": [
    "x0 = np.array([1, -1])\n",
    "iterates = []\n",
    "raiz = MetodoNewtonMultivariado(F, J_F, x0, 1e-6, iterates=iterates)\n",
    "raiz"
   ]
  },
  {
   "cell_type": "code",
   "execution_count": 27,
   "metadata": {},
   "outputs": [
    {
     "data": {
      "text/html": [
       "<div>\n",
       "<style scoped>\n",
       "    .dataframe tbody tr th:only-of-type {\n",
       "        vertical-align: middle;\n",
       "    }\n",
       "\n",
       "    .dataframe tbody tr th {\n",
       "        vertical-align: top;\n",
       "    }\n",
       "\n",
       "    .dataframe thead th {\n",
       "        text-align: right;\n",
       "    }\n",
       "</style>\n",
       "<table border=\"1\" class=\"dataframe\">\n",
       "  <thead>\n",
       "    <tr style=\"text-align: right;\">\n",
       "      <th></th>\n",
       "      <th>Iterados</th>\n",
       "      <th>||x_k - x_{k-1}||</th>\n",
       "    </tr>\n",
       "  </thead>\n",
       "  <tbody>\n",
       "    <tr>\n",
       "      <th>Iteración 0</th>\n",
       "      <td>[1, -1]</td>\n",
       "      <td>NaN</td>\n",
       "    </tr>\n",
       "    <tr>\n",
       "      <th>Iteración 1</th>\n",
       "      <td>[0.6, 0.6000000000000001]</td>\n",
       "      <td>1.649242e+00</td>\n",
       "    </tr>\n",
       "    <tr>\n",
       "      <th>Iteración 2</th>\n",
       "      <td>[0.9576169532187125, 0.9558576569372251]</td>\n",
       "      <td>5.045043e-01</td>\n",
       "    </tr>\n",
       "    <tr>\n",
       "      <th>Iteración 3</th>\n",
       "      <td>[0.9993403358173603, 0.9991691432820147]</td>\n",
       "      <td>6.013922e-02</td>\n",
       "    </tr>\n",
       "    <tr>\n",
       "      <th>Iteración 4</th>\n",
       "      <td>[0.9999997905533576, 0.9999997245862962]</td>\n",
       "      <td>1.060540e-03</td>\n",
       "    </tr>\n",
       "    <tr>\n",
       "      <th>Iteración 5</th>\n",
       "      <td>[0.9999999999999778, 0.9999999999999707]</td>\n",
       "      <td>3.460066e-07</td>\n",
       "    </tr>\n",
       "  </tbody>\n",
       "</table>\n",
       "</div>"
      ],
      "text/plain": [
       "                                             Iterados  ||x_k - x_{k-1}||\n",
       "Iteración 0                                   [1, -1]                NaN\n",
       "Iteración 1                 [0.6, 0.6000000000000001]       1.649242e+00\n",
       "Iteración 2  [0.9576169532187125, 0.9558576569372251]       5.045043e-01\n",
       "Iteración 3  [0.9993403358173603, 0.9991691432820147]       6.013922e-02\n",
       "Iteración 4  [0.9999997905533576, 0.9999997245862962]       1.060540e-03\n",
       "Iteración 5  [0.9999999999999778, 0.9999999999999707]       3.460066e-07"
      ]
     },
     "execution_count": 27,
     "metadata": {},
     "output_type": "execute_result"
    }
   ],
   "source": [
    "table1 = pd.DataFrame(\n",
    "    {\n",
    "        \"Iterados\": iterates, \n",
    "        \"||x_k - x_{k-1}||\": [None] + [np.linalg.norm(iterates[i+1] - iterates[i]) for i in range(len(iterates)-1)]\n",
    "    }, \n",
    "    index=[f\"Iteración {i}\" for i in range(len(iterates))]\n",
    "    )\n",
    "table1"
   ]
  },
  {
   "cell_type": "markdown",
   "metadata": {},
   "source": [
    "b) Recordar que la resolución del sistema anterior también se puede trabajar como un problema de optimización como sigue:\n",
    "$$\n",
    "\\min || F(X) - 0 ||^2_2 \\quad \\Rightarrow \\quad \\nabla \\left( \\sum_{i=0}^n f_i(X)^2 \\right) = 0\n",
    "$$\n",
    "donde $F=(f_1, \\ldots, f_n)^T$ y $X = (x_1, \\ldots, x_n)^T$. Aplicar el método de Newton al sistema de la derecha considerando como paso inicial el mismo $X_0$ propuesto anteriormente. Comparar los resultados y presentar la tabla de iterados para cada método."
   ]
  },
  {
   "cell_type": "markdown",
   "metadata": {},
   "source": [
    "Sea $h(x, y) = \\left( f_1(x,y)^2 + f_2(x,y)^2 \\right)$, donde $f_1$ y $f_2$ son las funciones componente de la función $F$ definida en el inciso anterior. En el inciso anterior vimos que\n",
    "$$\n",
    "J_F(x,y) = \\begin{pmatrix}\n",
    "\\dfrac{\\partial f_1}{\\partial x}(x,y) & \\dfrac{\\partial f_1}{\\partial y}(x,y) \\\\\n",
    "\\dfrac{\\partial f_2}{\\partial x}(x,y) & \\dfrac{\\partial f_2}{\\partial x}(x,y)\n",
    "\\end{pmatrix} = \\begin{pmatrix}\n",
    "2x - 10 & 2y \\\\\n",
    "y^2 + 1 & 2xy - 10\n",
    "\\end{pmatrix}.\n",
    "$$\n",
    "Consideremos $$ G(x,y) = \\nabla h(x,y) = \\left( \\dfrac{\\partial h}{\\partial x}(x,y), \\dfrac{\\partial h}{\\partial y}(x,y) \\right),$$ \n",
    "donde\n",
    "$$\n",
    "\\dfrac{\\partial h}{\\partial x}(x,y) = 2f_1(x,y)\\dfrac{\\partial f_1}{\\partial x}(x,y) + 2f_2(x,y)\\dfrac{\\partial f_2}{\\partial x}(x,y),\n",
    "$$\n",
    "$$\n",
    "\\dfrac{\\partial h}{\\partial y}(x,y) = 2f_1(x,y)\\dfrac{\\partial f_1}{\\partial y}(x,y) + 2f_2(x,y)\\dfrac{\\partial f_2}{\\partial y}(x,y).\n",
    "$$\n",
    "Queremos resolver con el método de Newton multivariado la ecuación $G(x,y)=(0,0)$, por lo que necesitamos la matriz Jacobiana de $G$ dada por\n",
    "$$\n",
    "J_G(x,y) = \\begin{pmatrix}\n",
    "\\dfrac{\\partial^2 h}{\\partial x^2}(x,y) & \\dfrac{\\partial^2 h}{\\partial y \\partial x}(x,y) \\\\\n",
    "\\dfrac{\\partial^2 h}{\\partial x \\partial y}(x,y) & \\dfrac{\\partial^2 h}{\\partial y^2}(x,y)\n",
    "\\end{pmatrix},\n",
    "$$\n",
    "donde $\\dfrac{\\partial^2 h}{\\partial x \\partial y} = \\dfrac{\\partial^2 h}{\\partial y \\partial x}$ por ser $h\\in C^\\infty$ (es un polinomio en dos variables). Utilizando regla de la derivada de un producto obtenemos"
   ]
  },
  {
   "cell_type": "markdown",
   "metadata": {},
   "source": [
    "$$\n",
    "\\dfrac{\\partial^2 h}{\\partial x^2}(x,y) = 2\\left( \\dfrac{\\partial f_1}{\\partial x}(x,y)  \\right)^2 + 2f_1(x,y)\\left( \\dfrac{\\partial^2 f_1}{\\partial x^2}(x,y) \\right) + 2\\left( \\dfrac{\\partial f_2}{\\partial x}(x,y)  \\right)^2 + 2f_2(x,y)\\left( \\dfrac{\\partial^2 f_2}{\\partial x^2}(x,y) \\right),\n",
    "$$\n",
    "$$\n",
    "\\dfrac{\\partial^2 h}{\\partial y \\partial x}(x,y) = \\dfrac{\\partial^2 h}{\\partial x \\partial y}(x,y) = 2\\left( \\dfrac{\\partial f_1}{\\partial x}(x,y)  \\right)\\left( \\dfrac{\\partial f_1}{\\partial y}(x,y)  \\right) + 2f_1(x,y)\\left( \\dfrac{\\partial^2 f_1}{\\partial x \\partial y}(x,y) \\right) + 2\\left( \\dfrac{\\partial f_2}{\\partial x}(x,y)  \\right)\\left( \\dfrac{\\partial f_2}{\\partial y}(x,y)  \\right) + 2f_2(x,y)\\left( \\dfrac{\\partial^2 f_2}{\\partial x \\partial y}(x,y)  \\right),\n",
    "$$\n",
    "$$\n",
    "\\dfrac{\\partial^2 h}{\\partial y^2}(x,y) = 2\\left( \\dfrac{\\partial f_1}{\\partial y}(x,y)  \\right)^2 + 2f_1(x,y)\\left( \\dfrac{\\partial^2 f_1}{\\partial y^2}(x,y) \\right) + 2\\left( \\dfrac{\\partial f_2}{\\partial y}(x,y)  \\right)^2 + 2f_2(x,y)\\left( \\dfrac{\\partial^2 f_2}{\\partial y^2}(x,y) \\right),\n",
    "$$\n",
    "$$\n",
    "\\dfrac{\\partial^2 f_1}{\\partial x^2}(x,y) = 2, \\quad \\quad \\dfrac{\\partial^2 f_1}{\\partial y^2}(x,y) = 2, \\quad \\quad \\dfrac{\\partial^2 f_1}{\\partial x \\partial y}(x,y) = 0,\n",
    "$$\n",
    "$$\n",
    "\\dfrac{\\partial^2 f_2}{\\partial x^2}(x,y) = 0, \\quad \\quad \\dfrac{\\partial^2 f_2}{\\partial y^2}(x,y) = 2x, \\quad \\quad \\dfrac{\\partial^2 f_2}{\\partial x \\partial y}(x,y) = 2y.\n",
    "$$"
   ]
  },
  {
   "cell_type": "code",
   "execution_count": 24,
   "metadata": {},
   "outputs": [],
   "source": [
    "def G(x: np.array) -> np.array:\n",
    "    # Funcion G (gradiente de h)\n",
    "    \n",
    "    f1 = x[0]**2 - 10*x[0] + x[1]**2 + 8\n",
    "    f2 = x[0]*x[1]**2 + x[0] - 10*x[1] + 8\n",
    "    \n",
    "    df1_dx = 2*x[0] - 10\n",
    "    df1_dy = 2*x[1]\n",
    "    df2_dx = x[1]**2 + 1\n",
    "    df2_dy = 2*x[0]*x[1] - 10\n",
    "    \n",
    "    return np.array([2*f1*df1_dx + 2*f2*df2_dx, 2*f1*df1_dy + 2*f2*df2_dy], dtype=\"float64\")\n",
    "\n",
    "def J_G(x: np.array) -> np.array:\n",
    "    # Jacobiano de $G (o matriz Hessiana de h)\n",
    "    \n",
    "    f1 = x[0]**2 - 10*x[0] + x[1]**2 + 8\n",
    "    f2 = x[0]*x[1]**2 + x[0] - 10*x[1] + 8\n",
    "    \n",
    "    df1_dx = 2*x[0] - 10\n",
    "    df1_dy = 2*x[1]\n",
    "    df2_dx = x[1]**2 + 1\n",
    "    df2_dy = 2*x[0]*x[1] - 10\n",
    "    \n",
    "    d2f1_dx2 = 2\n",
    "    d2f1_dy2 = 2\n",
    "    \n",
    "    d2f2_dy2 = 2*x[0]\n",
    "    d2f2_dxdy = 2*x[1]\n",
    "    \n",
    "    d2h_dx2 = 2*df1_dx**2 + 2*f1*d2f1_dx2 + 2*df2_dx**2\n",
    "    d2h_dxdy = 2*df1_dx*df1_dy + 2*df2_dx*df2_dy + 2*f2*d2f2_dxdy\n",
    "    d2h_dy2 = 2*df1_dy**2 + 2*f1*d2f1_dy2 + 2*df2_dy**2 + 2*f2*d2f2_dy2\n",
    "    \n",
    "    return np.array([\n",
    "        [d2h_dx2, d2h_dxdy],\n",
    "        [d2h_dxdy, d2h_dy2]\n",
    "    ], dtype = \"float64\")"
   ]
  },
  {
   "cell_type": "code",
   "execution_count": 25,
   "metadata": {},
   "outputs": [
    {
     "data": {
      "text/plain": [
       "array([1., 1.])"
      ]
     },
     "execution_count": 25,
     "metadata": {},
     "output_type": "execute_result"
    }
   ],
   "source": [
    "iterates_opti = []\n",
    "raiz = MetodoNewtonMultivariado(G, J_G, x0, 1e-6, iterates=iterates_opti)\n",
    "raiz"
   ]
  },
  {
   "cell_type": "code",
   "execution_count": 30,
   "metadata": {},
   "outputs": [
    {
     "data": {
      "text/html": [
       "<div>\n",
       "<style scoped>\n",
       "    .dataframe tbody tr th:only-of-type {\n",
       "        vertical-align: middle;\n",
       "    }\n",
       "\n",
       "    .dataframe tbody tr th {\n",
       "        vertical-align: top;\n",
       "    }\n",
       "\n",
       "    .dataframe thead th {\n",
       "        text-align: right;\n",
       "    }\n",
       "</style>\n",
       "<table border=\"1\" class=\"dataframe\">\n",
       "  <thead>\n",
       "    <tr style=\"text-align: right;\">\n",
       "      <th></th>\n",
       "      <th>Iterados</th>\n",
       "      <th>||x_k - x_{k-1}||</th>\n",
       "    </tr>\n",
       "  </thead>\n",
       "  <tbody>\n",
       "    <tr>\n",
       "      <th>Iteración 0</th>\n",
       "      <td>[1, -1]</td>\n",
       "      <td>NaN</td>\n",
       "    </tr>\n",
       "    <tr>\n",
       "      <th>Iteración 1</th>\n",
       "      <td>[1.381679389312977, 0.3740458015267174]</td>\n",
       "      <td>1.426072e+00</td>\n",
       "    </tr>\n",
       "    <tr>\n",
       "      <th>Iteración 2</th>\n",
       "      <td>[0.7783293007756205, 0.9138291009086189]</td>\n",
       "      <td>8.095661e-01</td>\n",
       "    </tr>\n",
       "    <tr>\n",
       "      <th>Iteración 3</th>\n",
       "      <td>[0.9781865943246908, 0.9830164716388536]</td>\n",
       "      <td>2.114943e-01</td>\n",
       "    </tr>\n",
       "    <tr>\n",
       "      <th>Iteración 4</th>\n",
       "      <td>[0.9995995160933218, 0.9995510967684107]</td>\n",
       "      <td>2.705378e-02</td>\n",
       "    </tr>\n",
       "    <tr>\n",
       "      <th>Iteración 5</th>\n",
       "      <td>[0.9999997905211988, 0.9999997460874144]</td>\n",
       "      <td>6.012535e-04</td>\n",
       "    </tr>\n",
       "    <tr>\n",
       "      <th>Iteración 6</th>\n",
       "      <td>[0.9999999999999367, 0.9999999999999225]</td>\n",
       "      <td>3.291700e-07</td>\n",
       "    </tr>\n",
       "  </tbody>\n",
       "</table>\n",
       "</div>"
      ],
      "text/plain": [
       "                                             Iterados  ||x_k - x_{k-1}||\n",
       "Iteración 0                                   [1, -1]                NaN\n",
       "Iteración 1   [1.381679389312977, 0.3740458015267174]       1.426072e+00\n",
       "Iteración 2  [0.7783293007756205, 0.9138291009086189]       8.095661e-01\n",
       "Iteración 3  [0.9781865943246908, 0.9830164716388536]       2.114943e-01\n",
       "Iteración 4  [0.9995995160933218, 0.9995510967684107]       2.705378e-02\n",
       "Iteración 5  [0.9999997905211988, 0.9999997460874144]       6.012535e-04\n",
       "Iteración 6  [0.9999999999999367, 0.9999999999999225]       3.291700e-07"
      ]
     },
     "execution_count": 30,
     "metadata": {},
     "output_type": "execute_result"
    }
   ],
   "source": [
    "table2 = pd.DataFrame(\n",
    "    {\n",
    "        \"Iterados\": iterates_opti, \n",
    "        \"||x_k - x_{k-1}||\": [None] + [np.linalg.norm(iterates_opti[i+1] - iterates_opti[i]) for i in range(len(iterates_opti)-1)]\n",
    "    }, \n",
    "    index=[f\"Iteración {i}\" for i in range(len(iterates_opti))]\n",
    "    )\n",
    "table2 # tabla de iterados del problema de minimización"
   ]
  },
  {
   "cell_type": "code",
   "execution_count": 32,
   "metadata": {},
   "outputs": [
    {
     "data": {
      "text/html": [
       "<div>\n",
       "<style scoped>\n",
       "    .dataframe tbody tr th:only-of-type {\n",
       "        vertical-align: middle;\n",
       "    }\n",
       "\n",
       "    .dataframe tbody tr th {\n",
       "        vertical-align: top;\n",
       "    }\n",
       "\n",
       "    .dataframe thead th {\n",
       "        text-align: right;\n",
       "    }\n",
       "</style>\n",
       "<table border=\"1\" class=\"dataframe\">\n",
       "  <thead>\n",
       "    <tr style=\"text-align: right;\">\n",
       "      <th></th>\n",
       "      <th>Iterados</th>\n",
       "      <th>||x_k - x_{k-1}||</th>\n",
       "    </tr>\n",
       "  </thead>\n",
       "  <tbody>\n",
       "    <tr>\n",
       "      <th>Iteración 0</th>\n",
       "      <td>[1, -1]</td>\n",
       "      <td>NaN</td>\n",
       "    </tr>\n",
       "    <tr>\n",
       "      <th>Iteración 1</th>\n",
       "      <td>[0.6, 0.6000000000000001]</td>\n",
       "      <td>1.649242e+00</td>\n",
       "    </tr>\n",
       "    <tr>\n",
       "      <th>Iteración 2</th>\n",
       "      <td>[0.9576169532187125, 0.9558576569372251]</td>\n",
       "      <td>5.045043e-01</td>\n",
       "    </tr>\n",
       "    <tr>\n",
       "      <th>Iteración 3</th>\n",
       "      <td>[0.9993403358173603, 0.9991691432820147]</td>\n",
       "      <td>6.013922e-02</td>\n",
       "    </tr>\n",
       "    <tr>\n",
       "      <th>Iteración 4</th>\n",
       "      <td>[0.9999997905533576, 0.9999997245862962]</td>\n",
       "      <td>1.060540e-03</td>\n",
       "    </tr>\n",
       "    <tr>\n",
       "      <th>Iteración 5</th>\n",
       "      <td>[0.9999999999999778, 0.9999999999999707]</td>\n",
       "      <td>3.460066e-07</td>\n",
       "    </tr>\n",
       "  </tbody>\n",
       "</table>\n",
       "</div>"
      ],
      "text/plain": [
       "                                             Iterados  ||x_k - x_{k-1}||\n",
       "Iteración 0                                   [1, -1]                NaN\n",
       "Iteración 1                 [0.6, 0.6000000000000001]       1.649242e+00\n",
       "Iteración 2  [0.9576169532187125, 0.9558576569372251]       5.045043e-01\n",
       "Iteración 3  [0.9993403358173603, 0.9991691432820147]       6.013922e-02\n",
       "Iteración 4  [0.9999997905533576, 0.9999997245862962]       1.060540e-03\n",
       "Iteración 5  [0.9999999999999778, 0.9999999999999707]       3.460066e-07"
      ]
     },
     "execution_count": 32,
     "metadata": {},
     "output_type": "execute_result"
    }
   ],
   "source": [
    "table1 # tabla de iterados de método de Newton multivariado directo"
   ]
  },
  {
   "cell_type": "markdown",
   "metadata": {},
   "source": [
    "Observamos que podemos obtener la solución a la ecuación $F(x,y) = (0,0)$ también resolviendo $\\nabla \\left( \\sum_{i=0}^n f_i(x,y)^2 \\right) = 0$, pero la convergencia es un poco más lenta (ver segunda columna de ambas tablas de iterados) y obtenemos el resultado con la tolerancia deseada con una iteración más que con el método de Newton multivariado directamente."
   ]
  }
 ],
 "metadata": {
  "kernelspec": {
   "display_name": "Python 3",
   "language": "python",
   "name": "python3"
  },
  "language_info": {
   "codemirror_mode": {
    "name": "ipython",
    "version": 3
   },
   "file_extension": ".py",
   "mimetype": "text/x-python",
   "name": "python",
   "nbconvert_exporter": "python",
   "pygments_lexer": "ipython3",
   "version": "3.9.6"
  }
 },
 "nbformat": 4,
 "nbformat_minor": 2
}
